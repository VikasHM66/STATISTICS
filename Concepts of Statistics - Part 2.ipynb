{
 "cells": [
  {
   "cell_type": "code",
   "execution_count": 507,
   "metadata": {},
   "outputs": [],
   "source": [
    "import numpy as np\n",
    "import pandas as pd\n",
    "import matplotlib.pyplot as plt\n",
    "import seaborn as sns\n",
    "import warnings\n",
    "warnings.filterwarnings(action='ignore')\n",
    "\n",
    "from matplotlib import gridspec\n",
    "%matplotlib inline\n",
    "\n",
    "\n",
    "from math import factorial\n",
    "\n",
    "from scipy import stats\n",
    "from scipy.stats import randint                 # randint is used to generate random variables following a uniform distribution.\n",
    "from scipy.stats import skewnorm                # variables having a skewed normal distribution.\n",
    "\n",
    "import random\n",
    "import statistics"
   ]
  },
  {
   "cell_type": "code",
   "execution_count": null,
   "metadata": {},
   "outputs": [],
   "source": [
    "\n",
    "\n",
    "\n",
    "\n",
    "\n",
    "\n"
   ]
  },
  {
   "cell_type": "markdown",
   "metadata": {},
   "source": [
    "# Large Sample Test.\n",
    "\n",
    "- If the sample size is sufficiently large (usually, n > 30) then we use the Z-test."
   ]
  },
  {
   "cell_type": "markdown",
   "metadata": {},
   "source": [
    "### 1. One Sample Z-test."
   ]
  },
  {
   "cell_type": "raw",
   "metadata": {},
   "source": [
    "Example:\n",
    "\n",
    "1. We need to determine if girls' score on average higher than 65 in the reading test. We collected the data of 517 girls by using random sampling from a normally distributed population and recorded their marks. Set ⍺ value (significance level) to 0.05.\n",
    "\n",
    "Consider the reading score for female students given in the CSV file StudentsPerformance.csv."
   ]
  },
  {
   "cell_type": "code",
   "execution_count": 199,
   "metadata": {},
   "outputs": [
    {
     "data": {
      "text/html": [
       "<div>\n",
       "<style scoped>\n",
       "    .dataframe tbody tr th:only-of-type {\n",
       "        vertical-align: middle;\n",
       "    }\n",
       "\n",
       "    .dataframe tbody tr th {\n",
       "        vertical-align: top;\n",
       "    }\n",
       "\n",
       "    .dataframe thead th {\n",
       "        text-align: right;\n",
       "    }\n",
       "</style>\n",
       "<table border=\"1\" class=\"dataframe\">\n",
       "  <thead>\n",
       "    <tr style=\"text-align: right;\">\n",
       "      <th></th>\n",
       "      <th>gender</th>\n",
       "      <th>race/ethnicity</th>\n",
       "      <th>lunch</th>\n",
       "      <th>test preparation course</th>\n",
       "      <th>math score</th>\n",
       "      <th>reading score</th>\n",
       "      <th>writing score</th>\n",
       "      <th>total score</th>\n",
       "      <th>training institute</th>\n",
       "    </tr>\n",
       "  </thead>\n",
       "  <tbody>\n",
       "    <tr>\n",
       "      <th>0</th>\n",
       "      <td>female</td>\n",
       "      <td>group B</td>\n",
       "      <td>standard</td>\n",
       "      <td>none</td>\n",
       "      <td>89</td>\n",
       "      <td>55</td>\n",
       "      <td>56</td>\n",
       "      <td>200</td>\n",
       "      <td>Nature Learning</td>\n",
       "    </tr>\n",
       "    <tr>\n",
       "      <th>1</th>\n",
       "      <td>female</td>\n",
       "      <td>group C</td>\n",
       "      <td>standard</td>\n",
       "      <td>completed</td>\n",
       "      <td>55</td>\n",
       "      <td>63</td>\n",
       "      <td>72</td>\n",
       "      <td>190</td>\n",
       "      <td>Nature Learning</td>\n",
       "    </tr>\n",
       "  </tbody>\n",
       "</table>\n",
       "</div>"
      ],
      "text/plain": [
       "   gender race/ethnicity     lunch test preparation course  math score  \\\n",
       "0  female        group B  standard                    none          89   \n",
       "1  female        group C  standard               completed          55   \n",
       "\n",
       "   reading score  writing score  total score training institute  \n",
       "0             55             56          200    Nature Learning  \n",
       "1             63             72          190    Nature Learning  "
      ]
     },
     "execution_count": 199,
     "metadata": {},
     "output_type": "execute_result"
    }
   ],
   "source": [
    "# read the students performance data \n",
    "df = pd.read_csv('StudentsPerformance.csv')\n",
    "\n",
    "# display the first two observations\n",
    "df.head(2)"
   ]
  },
  {
   "cell_type": "code",
   "execution_count": 200,
   "metadata": {},
   "outputs": [
    {
     "data": {
      "text/plain": [
       "female    517\n",
       "male      483\n",
       "Name: gender, dtype: int64"
      ]
     },
     "execution_count": 200,
     "metadata": {},
     "output_type": "execute_result"
    }
   ],
   "source": [
    "# Find the number of female students in the dataframe.\n",
    "df['gender'].value_counts()"
   ]
  },
  {
   "cell_type": "markdown",
   "metadata": {},
   "source": [
    "##### There are '517 female students' in the dataset. Consider the reading score of these students."
   ]
  },
  {
   "cell_type": "code",
   "execution_count": 201,
   "metadata": {},
   "outputs": [
    {
     "data": {
      "text/plain": [
       "0    55\n",
       "1    63\n",
       "2    71\n",
       "5    85\n",
       "6    51\n",
       "Name: reading score, dtype: int64"
      ]
     },
     "execution_count": 201,
     "metadata": {},
     "output_type": "execute_result"
    }
   ],
   "source": [
    "# Considering only Female students 'reading score' from the dataset.\n",
    "\n",
    "scores = df[df['gender']=='female']['reading score']\n",
    "scores.head()"
   ]
  },
  {
   "cell_type": "code",
   "execution_count": 202,
   "metadata": {},
   "outputs": [
    {
     "name": "stdout",
     "output_type": "stream",
     "text": [
      "Test statistic: 0.9949197173118591\n",
      "P-value: 0.08649472147226334\n"
     ]
    }
   ],
   "source": [
    "# step1: let us check the normality of the data.\n",
    "from scipy.stats import shapiro\n",
    "\n",
    "stat, p_value = shapiro(scores)\n",
    "\n",
    "print('Test statistic:',stat)\n",
    "print('P-value:',p_value)"
   ]
  },
  {
   "cell_type": "markdown",
   "metadata": {},
   "source": [
    "#####  From the above result, we can see that the p-value is greater than 0.05, thus we can say that the data is normally distributed."
   ]
  },
  {
   "cell_type": "code",
   "execution_count": 203,
   "metadata": {},
   "outputs": [
    {
     "name": "stdout",
     "output_type": "stream",
     "text": [
      "The critical value for one-tailed z-test is: 1.64\n",
      "Z-score:  2.529410071375873\n",
      "p-value:  0.005712722457410142\n"
     ]
    }
   ],
   "source": [
    "# step2 : let us calculate the Z-value , Z-score and P-value.\n",
    "\n",
    "z_value = stats.norm.isf(q=0.05)\n",
    "print('The critical value for one-tailed z-test is:',round(z_value,2))\n",
    "\n",
    "\n",
    "# Here we can calculate the z-score and p-value together using 'stests'.\n",
    "from statsmodels.stats import weightstats as stests\n",
    "\n",
    "z_score, pval = stests.ztest(x1=scores, value=65, alternative='larger')\n",
    "\n",
    "print(\"Z-score: \", z_score)\n",
    "print(\"p-value: \", pval)"
   ]
  },
  {
   "cell_type": "code",
   "execution_count": 204,
   "metadata": {},
   "outputs": [
    {
     "name": "stdout",
     "output_type": "stream",
     "text": [
      "Confidence Interval: [65.33 67.61]\n"
     ]
    }
   ],
   "source": [
    "# step3: let us calculate the confidence interval.\n",
    "\n",
    "interval = stats.norm.interval(0.95, loc=np.mean(scores), scale=statistics.stdev(scores)/np.sqrt(len(scores)))\n",
    "print('Confidence Interval:',np.round(interval,2))"
   ]
  },
  {
   "cell_type": "markdown",
   "metadata": {},
   "source": [
    "##### Conclusion:\n",
    "\n",
    "- Here the z score is greater than 1.64. \n",
    "- the p-value is less than 0.05. \n",
    "- also the confidence interval does not contain the value in the null hypothesis (i.e. 65).\n",
    "- thus we reject the null hypothesis and thus, we have enough evidence to conclude that on average girls' score higher marks than 65."
   ]
  },
  {
   "cell_type": "markdown",
   "metadata": {},
   "source": [
    "### 2. Two Sample Z-Test."
   ]
  },
  {
   "cell_type": "raw",
   "metadata": {},
   "source": [
    "Example:\n",
    "\n",
    "1. The training institute Nature Learning claims that the students trained in their institute have overall better performance than the students trained in their competitor institute Speak Global Learning. We have a sample data of 500 students from each institute along with their total score collected from independent normal populations. Frame a hypothesis and test the Nature Learning's claim with 99% confidence.\n",
    "\n",
    "Consider the total score for students given in the CSV file StudentsPerformance.csv."
   ]
  },
  {
   "cell_type": "code",
   "execution_count": 205,
   "metadata": {},
   "outputs": [],
   "source": [
    "# null and alternative hypothesis:\n",
    "\n",
    "# Ho : mu1 - mu2 <= 0\n",
    "# H1 : mu1 - mu2 >  0\n",
    "\n",
    "# Right tailed test."
   ]
  },
  {
   "cell_type": "code",
   "execution_count": 206,
   "metadata": {},
   "outputs": [
    {
     "data": {
      "text/html": [
       "<div>\n",
       "<style scoped>\n",
       "    .dataframe tbody tr th:only-of-type {\n",
       "        vertical-align: middle;\n",
       "    }\n",
       "\n",
       "    .dataframe tbody tr th {\n",
       "        vertical-align: top;\n",
       "    }\n",
       "\n",
       "    .dataframe thead th {\n",
       "        text-align: right;\n",
       "    }\n",
       "</style>\n",
       "<table border=\"1\" class=\"dataframe\">\n",
       "  <thead>\n",
       "    <tr style=\"text-align: right;\">\n",
       "      <th></th>\n",
       "      <th>gender</th>\n",
       "      <th>race/ethnicity</th>\n",
       "      <th>lunch</th>\n",
       "      <th>test preparation course</th>\n",
       "      <th>math score</th>\n",
       "      <th>reading score</th>\n",
       "      <th>writing score</th>\n",
       "      <th>total score</th>\n",
       "      <th>training institute</th>\n",
       "    </tr>\n",
       "  </thead>\n",
       "  <tbody>\n",
       "    <tr>\n",
       "      <th>0</th>\n",
       "      <td>female</td>\n",
       "      <td>group B</td>\n",
       "      <td>standard</td>\n",
       "      <td>none</td>\n",
       "      <td>89</td>\n",
       "      <td>55</td>\n",
       "      <td>56</td>\n",
       "      <td>200</td>\n",
       "      <td>Nature Learning</td>\n",
       "    </tr>\n",
       "    <tr>\n",
       "      <th>1</th>\n",
       "      <td>female</td>\n",
       "      <td>group C</td>\n",
       "      <td>standard</td>\n",
       "      <td>completed</td>\n",
       "      <td>55</td>\n",
       "      <td>63</td>\n",
       "      <td>72</td>\n",
       "      <td>190</td>\n",
       "      <td>Nature Learning</td>\n",
       "    </tr>\n",
       "  </tbody>\n",
       "</table>\n",
       "</div>"
      ],
      "text/plain": [
       "   gender race/ethnicity     lunch test preparation course  math score  \\\n",
       "0  female        group B  standard                    none          89   \n",
       "1  female        group C  standard               completed          55   \n",
       "\n",
       "   reading score  writing score  total score training institute  \n",
       "0             55             56          200    Nature Learning  \n",
       "1             63             72          190    Nature Learning  "
      ]
     },
     "execution_count": 206,
     "metadata": {},
     "output_type": "execute_result"
    }
   ],
   "source": [
    "# read the students performance data \n",
    "df_student = pd.read_csv('StudentsPerformance.csv')\n",
    "\n",
    "# display the first two observations\n",
    "df_student.head(2)"
   ]
  },
  {
   "cell_type": "code",
   "execution_count": 207,
   "metadata": {},
   "outputs": [],
   "source": [
    "# Ajenda:\n",
    "# Nature learning claims that the students trained in their institue have \n",
    "# better overall performance than students in the Speak Global learning.\n",
    "\n",
    "# Seperate the total scores of students based on training institute.\n",
    "\n",
    "n1_scores = df[df['training institute']=='Nature Learning']['total score']\n",
    "n2_scores = df[df['training institute']=='Speak Global Learning']['total score']\n",
    "\n",
    "# number of samples of two different population.\n",
    "n1 = len(n1_scores)\n",
    "n2 = len(n2_scores)\n",
    "\n",
    "# average of the samples \n",
    "n1_mean = np.mean(n1_scores)\n",
    "n2_mean = np.mean(n2_scores)\n",
    "\n",
    "# Standard deviation of the total score.\n",
    "n1_std = statistics.stdev(n1_scores)\n",
    "n2_std = statistics.stdev(n2_scores)"
   ]
  },
  {
   "cell_type": "code",
   "execution_count": 208,
   "metadata": {},
   "outputs": [
    {
     "name": "stdout",
     "output_type": "stream",
     "text": [
      "Test statistic: 0.998780369758606\n",
      "P-Value: 0.08649472147226334\n"
     ]
    }
   ],
   "source": [
    "# Let us ****check the normality*** of total score for the students trained from both the institutes.\n",
    "\n",
    "# pass the total score students to perform the test\n",
    "stat, pval = shapiro(df['total score'])\n",
    "\n",
    "print('Test statistic:', stat)\n",
    "print('P-Value:', p_value)"
   ]
  },
  {
   "cell_type": "markdown",
   "metadata": {},
   "source": [
    "##### From the above result, we can see that the p-value is greater than 0.05, thus we can say that the total scores of the students trained from both the institutes are normally distributed."
   ]
  },
  {
   "cell_type": "code",
   "execution_count": 209,
   "metadata": {},
   "outputs": [
    {
     "name": "stdout",
     "output_type": "stream",
     "text": [
      "Test statistic: 0.6422721347822817\n",
      "P-Value: 0.08649472147226334\n"
     ]
    }
   ],
   "source": [
    "# Let us check the ***equality of variances.***\n",
    "\n",
    "# perfrom levene's test.\n",
    "## levene() returns a tuple having the values of test statistics and the corresponding p-value\n",
    "# pass the total scores of students trained from 'Nature Learning' and 'Speak Global Learning' institutes to perform the test\n",
    "stat, pval = stats.levene(n1_scores, n2_scores)\n",
    "\n",
    "print('Test statistic:', stat)\n",
    "print('P-Value:', p_value)"
   ]
  },
  {
   "cell_type": "markdown",
   "metadata": {},
   "source": [
    "##### From the above result, we can see that the p-value is greater than 0.05, thus we can say that the population variances are equal."
   ]
  },
  {
   "cell_type": "code",
   "execution_count": 210,
   "metadata": {},
   "outputs": [
    {
     "name": "stdout",
     "output_type": "stream",
     "text": [
      "The critical value for one-tailed z-test: 2.33\n",
      "Z-score:  0.15125511253949914\n",
      "p-value:  0.43988723840898025\n"
     ]
    }
   ],
   "source": [
    "# step1: z-test, p-value.\n",
    "\n",
    "z_value = stats.norm.isf(q=0.01)\n",
    "print('The critical value for one-tailed z-test:',round(z_value,2))\n",
    "\n",
    "\n",
    "# to calculate the z-score and p-value for the Two sample test:\n",
    "# pass the value in null hypothesis to the parameter, 'value'\n",
    "# pass the one-tailed condition to the parameter, 'alternative'\n",
    "\n",
    "z_score, pval = stests.ztest(x1=n1_scores, x2=n2_scores, value=0, alternative='larger' )\n",
    "print(\"Z-score: \", z_score)\n",
    "print(\"p-value: \", pval)\n",
    "\n"
   ]
  },
  {
   "cell_type": "code",
   "execution_count": 211,
   "metadata": {},
   "outputs": [
    {
     "name": "stdout",
     "output_type": "stream",
     "text": [
      "The 99% confidence interval is: [-3.55  3.99]\n"
     ]
    }
   ],
   "source": [
    "# step2: Confidence interval:\n",
    "\n",
    "interval = stats.norm.interval(0.99, loc=n1_mean-n2_mean, \n",
    "                               scale=np.sqrt(((n1_std**2)/n1) + (n1_std**2)/n2))\n",
    "print('The 99% confidence interval is:',np.round(interval,2))"
   ]
  },
  {
   "cell_type": "raw",
   "metadata": {},
   "source": [
    "2. A study was carried out to understand amount of haemoglobin in blood for males and females. A random sample of 160 males and 180 females have means of 13 g/dl and 15 g/dl. The two samples have standard deviation of 4.1 g/dl for male donors and 3.5 g/dl for female donor . Can it be said the population means of concentrations of the elements are the same for men and women? Use α = 0.01."
   ]
  },
  {
   "cell_type": "code",
   "execution_count": 212,
   "metadata": {},
   "outputs": [],
   "source": [
    "# Given data:\n",
    "\n",
    "# number of samples:\n",
    "n1 = 160\n",
    "n2 = 180\n",
    "\n",
    "# average of the sample:\n",
    "n1_mean = 13\n",
    "n2_mean = 15\n",
    "\n",
    "# standard deviation of the sample:\n",
    "n1_std = 4.1\n",
    "n2_std = 3.5"
   ]
  },
  {
   "cell_type": "code",
   "execution_count": 213,
   "metadata": {},
   "outputs": [],
   "source": [
    "# Null and Alternative Hypothesis:\n",
    "\n",
    "# Ho : mu1 - mu2  = 0\n",
    "# H1 : mu1 - mu2  not=0\n",
    "\n",
    "# Two tailed test."
   ]
  },
  {
   "cell_type": "code",
   "execution_count": 214,
   "metadata": {},
   "outputs": [
    {
     "name": "stdout",
     "output_type": "stream",
     "text": [
      "Z-value: 2.58\n",
      "Z-score: -4.81\n"
     ]
    }
   ],
   "source": [
    "# step1: Z-test\n",
    "\n",
    "z_value = stats.norm.isf(q=0.01/2)\n",
    "print('Z-value:',round(z_value,2))\n",
    "\n",
    "z_score = ((n1_mean-n2_mean) - (0)) / np.sqrt((n1_std**2/n1) + (n2_std**2/n2))\n",
    "print('Z-score:',round(z_score,2))"
   ]
  },
  {
   "cell_type": "code",
   "execution_count": 215,
   "metadata": {},
   "outputs": [
    {
     "name": "stdout",
     "output_type": "stream",
     "text": [
      "P-value: 0.0\n"
     ]
    }
   ],
   "source": [
    "# step2: P-value test:\n",
    "\n",
    "# Here cdf() because its left tailed if right tailed then sf().\n",
    "p_value = stats.norm.cdf(z_score)\n",
    "\n",
    "# Here multiply p-value by 2 beacuse its Two tailed test\n",
    "p_value = p_value*2\n",
    "print('P-value:',round(p_value,4))"
   ]
  },
  {
   "cell_type": "code",
   "execution_count": 89,
   "metadata": {},
   "outputs": [],
   "source": [
    "# another method to solve Z-score and P-value\n",
    "\n",
    "#*********** this method cannot be used when dataset is not given\n",
    "\n",
    "from statsmodels.stats import weightstats as stests\n",
    "\n",
    "z_score, pval = stests.ztest(x1=n1, x2=n2, value=0, alternative='larger')"
   ]
  },
  {
   "cell_type": "code",
   "execution_count": 216,
   "metadata": {},
   "outputs": [
    {
     "name": "stdout",
     "output_type": "stream",
     "text": [
      "The 99% Confidence interval is: [-3.07 -0.93]\n"
     ]
    }
   ],
   "source": [
    "# Step3 : Confidence Interval:\n",
    "\n",
    "interval = stats.norm.interval(0.99, loc=n1_mean-n2_mean,\n",
    "                              scale=np.sqrt(((n1_std**2/n1) + (n2_std**2/n2))))\n",
    "print('The 99% Confidence interval is:',np.round(interval,2))"
   ]
  },
  {
   "cell_type": "markdown",
   "metadata": {},
   "source": [
    "#####  Conclusion:\n",
    "\n",
    "- Here the z-score is less than -2.58.\n",
    "- the p-value is less than 0.01.\n",
    "- also the confidence interval does not contain the value in the null hypothesis (i.e. 0).\n",
    "- Thus, we reject the null hypothesis and conclude that both males and females have different hemoglobin averages."
   ]
  },
  {
   "cell_type": "code",
   "execution_count": null,
   "metadata": {},
   "outputs": [],
   "source": []
  },
  {
   "cell_type": "markdown",
   "metadata": {},
   "source": [
    "# Small Sample Test:\n",
    "\n",
    "- If the sample size is small (usually, n < 30) then we use the t-test. These tests are also known as exact tests."
   ]
  },
  {
   "cell_type": "markdown",
   "metadata": {},
   "source": [
    "### 1. One Sample Test."
   ]
  },
  {
   "cell_type": "raw",
   "metadata": {},
   "source": [
    "Example:\n",
    "\n",
    "1. A survey claims that in a math test female students tend to score fewer marks than the average marks of 75 out of 100. Consider a sample of 24 female students and perform a hypothesis test to check the claim with 90% confidence.¶\n",
    "Use the dataset available in the CSV file mathscore_1ttest.csv."
   ]
  },
  {
   "cell_type": "code",
   "execution_count": 248,
   "metadata": {},
   "outputs": [
    {
     "data": {
      "text/html": [
       "<div>\n",
       "<style scoped>\n",
       "    .dataframe tbody tr th:only-of-type {\n",
       "        vertical-align: middle;\n",
       "    }\n",
       "\n",
       "    .dataframe tbody tr th {\n",
       "        vertical-align: top;\n",
       "    }\n",
       "\n",
       "    .dataframe thead th {\n",
       "        text-align: right;\n",
       "    }\n",
       "</style>\n",
       "<table border=\"1\" class=\"dataframe\">\n",
       "  <thead>\n",
       "    <tr style=\"text-align: right;\">\n",
       "      <th></th>\n",
       "      <th>gender</th>\n",
       "      <th>race/ethnicity</th>\n",
       "      <th>lunch</th>\n",
       "      <th>test preparation course</th>\n",
       "      <th>math score</th>\n",
       "      <th>reading score</th>\n",
       "      <th>writing score</th>\n",
       "      <th>total score</th>\n",
       "      <th>training institute</th>\n",
       "    </tr>\n",
       "  </thead>\n",
       "  <tbody>\n",
       "    <tr>\n",
       "      <th>0</th>\n",
       "      <td>female</td>\n",
       "      <td>group C</td>\n",
       "      <td>standard</td>\n",
       "      <td>none</td>\n",
       "      <td>60</td>\n",
       "      <td>72</td>\n",
       "      <td>74</td>\n",
       "      <td>206</td>\n",
       "      <td>Nature Learning</td>\n",
       "    </tr>\n",
       "    <tr>\n",
       "      <th>1</th>\n",
       "      <td>female</td>\n",
       "      <td>group C</td>\n",
       "      <td>standard</td>\n",
       "      <td>none</td>\n",
       "      <td>59</td>\n",
       "      <td>72</td>\n",
       "      <td>68</td>\n",
       "      <td>199</td>\n",
       "      <td>Nature Learning</td>\n",
       "    </tr>\n",
       "  </tbody>\n",
       "</table>\n",
       "</div>"
      ],
      "text/plain": [
       "   gender race/ethnicity     lunch test preparation course  math score  \\\n",
       "0  female        group C  standard                    none          60   \n",
       "1  female        group C  standard                    none          59   \n",
       "\n",
       "   reading score  writing score  total score training institute  \n",
       "0             72             74          206    Nature Learning  \n",
       "1             72             68          199    Nature Learning  "
      ]
     },
     "execution_count": 248,
     "metadata": {},
     "output_type": "execute_result"
    }
   ],
   "source": [
    "# read the students performance data \n",
    "df = pd.read_csv('mathscore_1ttest.csv')\n",
    "\n",
    "# display the first two observations\n",
    "df.head(2)"
   ]
  },
  {
   "cell_type": "code",
   "execution_count": 249,
   "metadata": {},
   "outputs": [],
   "source": [
    "# we need the math scores of the female students only.\n",
    "df['gender'].unique()\n",
    "\n",
    "# Here the data consists only female students no worry about filtering gender.\n",
    "\n",
    "# Now only pull out the math scores.\n",
    "math_score = df['math score']\n",
    "\n",
    "# let us calculate the samp_mean, samp_std\n",
    "samp_mean = np.mean(math_score)\n",
    "samp_std = statistics.stdev(math_score)\n",
    "n = len(math_score)\n",
    "dof = n-1"
   ]
  },
  {
   "cell_type": "code",
   "execution_count": 250,
   "metadata": {},
   "outputs": [
    {
     "name": "stdout",
     "output_type": "stream",
     "text": [
      "stat: 0.9368310570716858\n",
      "pval: 0.13859796524047852\n"
     ]
    }
   ],
   "source": [
    "# Let us check the normality of the data:\n",
    "\n",
    "from scipy.stats import shapiro\n",
    "\n",
    "\n",
    "stat, pval = stats.shapiro(math_score)\n",
    "print('stat:',stat)\n",
    "print('pval:',pval)"
   ]
  },
  {
   "cell_type": "markdown",
   "metadata": {},
   "source": [
    "##### From the above result, we can see that the p-value is greater than 0.05, thus we can say that the data is normally distributed."
   ]
  },
  {
   "cell_type": "code",
   "execution_count": 251,
   "metadata": {},
   "outputs": [],
   "source": [
    "# The null and alternative hypothesis:\n",
    "\n",
    "# Ho : mu >= 75\n",
    "# H1 : mu <  75,   consider this first\n",
    "\n",
    "\n",
    "# left tailed test."
   ]
  },
  {
   "cell_type": "code",
   "execution_count": 252,
   "metadata": {},
   "outputs": [
    {
     "name": "stdout",
     "output_type": "stream",
     "text": [
      "Critical value for one-tailed t-test: 1.32\n"
     ]
    }
   ],
   "source": [
    "# Step1: t-test\n",
    "\n",
    "t_val = round(stats.t.isf(q = 0.1, df = 23), 2)\n",
    "\n",
    "print('Critical value for one-tailed t-test:', t_val)"
   ]
  },
  {
   "cell_type": "code",
   "execution_count": 253,
   "metadata": {},
   "outputs": [],
   "source": [
    "# This is the calculation of the t_score and pval\n",
    "# with the inbuilt function::**********(inbuilt function can be used when theres dataset is given)\n",
    "\n",
    "# **** the inbuilt function it gives the p_value for two tailed so, **(divide it by 2)** for one tailed \n",
    "\n",
    "t_stat,pval = stats.ttest_1samp(a=math_score, popmean=75)\n"
   ]
  },
  {
   "cell_type": "code",
   "execution_count": 254,
   "metadata": {},
   "outputs": [
    {
     "name": "stdout",
     "output_type": "stream",
     "text": [
      "t-stat: -3.6067380757023204\n",
      "pval: 0.0007426613957678669\n"
     ]
    }
   ],
   "source": [
    "# dividing the p_val by 2 beacuse its left tailed test.\n",
    "\n",
    "req_pval = pval/2\n",
    "\n",
    "print('t-stat:',t_stat)\n",
    "print('pval:',req_pval)"
   ]
  },
  {
   "cell_type": "code",
   "execution_count": 255,
   "metadata": {},
   "outputs": [
    {
     "name": "stdout",
     "output_type": "stream",
     "text": [
      "The 90% confidence interval is: [62.56 70.35]\n"
     ]
    }
   ],
   "source": [
    "# step2 : calculate 90% confidence interval\n",
    "\n",
    "interval = stats.norm.interval(0.90, loc=samp_mean, scale=samp_std/np.sqrt(n))\n",
    "print('The 90% confidence interval is:',np.round(interval,2))"
   ]
  },
  {
   "cell_type": "markdown",
   "metadata": {},
   "source": [
    "##### Conclusion:\n",
    "\n",
    "- We can see that the test statistic value is less than -1.32.\n",
    "- the p-value is less than 0.1.\n",
    "- also the confidence interval does not contain the value in the null hypothesis (i.e. 75).\n",
    "- Thus, we reject the null hypothesis and conclude that the proposed claim, i.e. in math test female students tend to get more marks than the average marks of 75 out of 100, is correct."
   ]
  },
  {
   "cell_type": "raw",
   "metadata": {},
   "source": [
    "2. A researcher is studying the growth of bacteria in waters of Lake Beach. The mean bacteria count of 100 per unit volume of water is within the safety level. The researcher collected 10 water samples of unit volume and found the mean bacteria count to be 94.8 with a sample variance of 72.66. Does the data indicate that the bacteria count is within the safety level? Test at the α = .05 level. Assume that the measurements constitute a sample from a normal population."
   ]
  },
  {
   "cell_type": "code",
   "execution_count": 256,
   "metadata": {},
   "outputs": [],
   "source": [
    "# step1:  Null and alternative hypothesis:\n",
    "\n",
    "# Ho : mu >= 100\n",
    "# H1 : mu < 100\n",
    "\n",
    "# Left tailed test."
   ]
  },
  {
   "cell_type": "code",
   "execution_count": 257,
   "metadata": {},
   "outputs": [],
   "source": [
    "# Given data:\n",
    "\n",
    "pop_mean = 100\n",
    "n = 10\n",
    "samp_mean = 94.8\n",
    "samp_variance = 72.66\n",
    "samp_std = np.sqrt(samp_variance)\n",
    "alpha = 0.05\n",
    "df = n-1"
   ]
  },
  {
   "cell_type": "code",
   "execution_count": 258,
   "metadata": {},
   "outputs": [
    {
     "name": "stdout",
     "output_type": "stream",
     "text": [
      "The critical value for one-tailed t-test is: 1.83\n",
      "t-score: -1.93\n"
     ]
    }
   ],
   "source": [
    "# Step1: t-test\n",
    "\n",
    "t_value = stats.t.isf(q=0.05,df=n-1)\n",
    "print('The critical value for one-tailed t-test is:',round(t_value,2))\n",
    "\n",
    "t_score = (samp_mean - pop_mean) / (samp_std/np.sqrt(n))\n",
    "print('t-score:',round(t_score,2))"
   ]
  },
  {
   "cell_type": "code",
   "execution_count": 259,
   "metadata": {},
   "outputs": [
    {
     "name": "stdout",
     "output_type": "stream",
     "text": [
      "t-score: -1.93\n"
     ]
    }
   ],
   "source": [
    "# We can also call a simple function for getting t-score:\n",
    "\n",
    "def ttest(pop_mean,samp_mean,samp_std,n):\n",
    "    t_score = (samp_mean-pop_mean)/ (samp_std/np.sqrt(n))\n",
    "    return t_score\n",
    "pop_mean = 100\n",
    "n = 10\n",
    "samp_mean = 94.8\n",
    "samp_variance = 72.66\n",
    "samp_std = np.sqrt(samp_variance)\n",
    "\n",
    "t_score = ttest(pop_mean,samp_mean,samp_std,n)\n",
    "print('t-score:',round(t_score,2))"
   ]
  },
  {
   "cell_type": "code",
   "execution_count": 260,
   "metadata": {},
   "outputs": [
    {
     "name": "stdout",
     "output_type": "stream",
     "text": [
      "The P-value: 0.04\n"
     ]
    }
   ],
   "source": [
    "# step2: P-value test:\n",
    "\n",
    "p_value = stats.t.cdf(t_score,df=n-1)    # using cdf() because its left tailed test\n",
    "print('The P-value:',round(p_value,2))"
   ]
  },
  {
   "cell_type": "code",
   "execution_count": 261,
   "metadata": {},
   "outputs": [
    {
     "name": "stdout",
     "output_type": "stream",
     "text": [
      "The 95% confidence Interval is: [ 88.7 100.9]\n"
     ]
    }
   ],
   "source": [
    "# step3: Confidence Interval for 95%\n",
    "\n",
    "interval = stats.t.interval(0.95, df=n-1, loc=samp_mean, scale=samp_std/np.sqrt(n))\n",
    "print('The 95% confidence Interval is:',np.round(interval,2))"
   ]
  },
  {
   "cell_type": "markdown",
   "metadata": {},
   "source": [
    "##### Conclusion.\n",
    "\n",
    "- We can see that the test statistic value is less than -1.83.\n",
    "- the p-value is less than 0.05. \n",
    "- Thus, we reject the null hypothesis and can conclude that the average bacteria per unit volume (true mean) is within the safety levels."
   ]
  },
  {
   "cell_type": "markdown",
   "metadata": {},
   "source": [
    "# Two Sample t Test (Unpaired)\n",
    "\n",
    "- INDEPENDENT SAMPLES"
   ]
  },
  {
   "cell_type": "raw",
   "metadata": {},
   "source": [
    "Example:\n",
    "\n",
    "1. The teachers' association claims that the total score of the students who completed the test preparation course is different than the total score of the students who have not completed the course. The sample data consists of 15 students who completed the course and 18 students who have not completed the course. Test the association's claim with ⍺ = 0.05.¶\n",
    "\n",
    "Consider the total score of the students who have/ have not completed the preparation course are given in the CSV file totalmarks_2ttest.csv."
   ]
  },
  {
   "cell_type": "code",
   "execution_count": 262,
   "metadata": {},
   "outputs": [
    {
     "data": {
      "text/html": [
       "<div>\n",
       "<style scoped>\n",
       "    .dataframe tbody tr th:only-of-type {\n",
       "        vertical-align: middle;\n",
       "    }\n",
       "\n",
       "    .dataframe tbody tr th {\n",
       "        vertical-align: top;\n",
       "    }\n",
       "\n",
       "    .dataframe thead th {\n",
       "        text-align: right;\n",
       "    }\n",
       "</style>\n",
       "<table border=\"1\" class=\"dataframe\">\n",
       "  <thead>\n",
       "    <tr style=\"text-align: right;\">\n",
       "      <th></th>\n",
       "      <th>gender</th>\n",
       "      <th>race/ethnicity</th>\n",
       "      <th>lunch</th>\n",
       "      <th>test preparation course</th>\n",
       "      <th>math score</th>\n",
       "      <th>reading score</th>\n",
       "      <th>writing score</th>\n",
       "      <th>total score</th>\n",
       "      <th>training institute</th>\n",
       "    </tr>\n",
       "  </thead>\n",
       "  <tbody>\n",
       "    <tr>\n",
       "      <th>0</th>\n",
       "      <td>male</td>\n",
       "      <td>group E</td>\n",
       "      <td>standard</td>\n",
       "      <td>completed</td>\n",
       "      <td>84</td>\n",
       "      <td>83</td>\n",
       "      <td>78</td>\n",
       "      <td>245</td>\n",
       "      <td>Speak Global Learning</td>\n",
       "    </tr>\n",
       "    <tr>\n",
       "      <th>1</th>\n",
       "      <td>male</td>\n",
       "      <td>group C</td>\n",
       "      <td>free/reduced</td>\n",
       "      <td>completed</td>\n",
       "      <td>79</td>\n",
       "      <td>77</td>\n",
       "      <td>75</td>\n",
       "      <td>231</td>\n",
       "      <td>Speak Global Learning</td>\n",
       "    </tr>\n",
       "  </tbody>\n",
       "</table>\n",
       "</div>"
      ],
      "text/plain": [
       "  gender race/ethnicity         lunch test preparation course  math score  \\\n",
       "0   male        group E      standard               completed          84   \n",
       "1   male        group C  free/reduced               completed          79   \n",
       "\n",
       "   reading score  writing score  total score     training institute  \n",
       "0             83             78          245  Speak Global Learning  \n",
       "1             77             75          231  Speak Global Learning  "
      ]
     },
     "execution_count": 262,
     "metadata": {},
     "output_type": "execute_result"
    }
   ],
   "source": [
    "# read the students performance data \n",
    "df = pd.read_csv('totalmarks_2ttest.csv')\n",
    "\n",
    "# display the first two observations\n",
    "df.head(2)"
   ]
  },
  {
   "cell_type": "code",
   "execution_count": 263,
   "metadata": {},
   "outputs": [],
   "source": [
    "# we need to filter out the total score of the students,\n",
    "# who are completed test preparation course and not completed course."
   ]
  },
  {
   "cell_type": "code",
   "execution_count": 264,
   "metadata": {},
   "outputs": [],
   "source": [
    "# check the unique entrys of test preparation course.\n",
    "df['test preparation course'].unique()\n",
    "\n",
    "# lets separate the students total score based on test prepartaion course.\n",
    "\n",
    "# these are the students total score who completed the test preparation course.\n",
    "n1_tscore = df[df['test preparation course']=='completed']['total score']\n",
    "\n",
    "# these are the students total score who are not completed the test preparation course.\n",
    "n2_tscore = df[df['test preparation course']=='none']['total score']\n"
   ]
  },
  {
   "cell_type": "code",
   "execution_count": 265,
   "metadata": {},
   "outputs": [],
   "source": [
    "# Calculate the required using the samples dataset:\n",
    "\n",
    "# number of the samples:\n",
    "n1 = len(n1_tscore)\n",
    "n2 = len(n2_tscore)\n",
    "\n",
    "# average of the samples:\n",
    "n1_mean = np.mean(n1_tscore)\n",
    "n2_mean = np.mean(n2_tscore)\n",
    "\n",
    "# standard deviation of the samples:\n",
    "n1_std = statistics.stdev(n1_tscore)\n",
    "n2_std = statistics.stdev(n2_tscore)\n",
    "\n",
    "# degree of freedom\n",
    "dof = n1+n2-2"
   ]
  },
  {
   "cell_type": "code",
   "execution_count": 268,
   "metadata": {},
   "outputs": [
    {
     "name": "stdout",
     "output_type": "stream",
     "text": [
      "Test statistic: 0.9845393300056458\n",
      "P-Value: 0.9080941677093506\n"
     ]
    }
   ],
   "source": [
    "# let us check the normality of the total score of the students:\n",
    "\n",
    "stat, pval = shapiro(df['total score']) \n",
    "print('Test statistic:', stat)\n",
    "print('P-Value:', pval)"
   ]
  },
  {
   "cell_type": "markdown",
   "metadata": {},
   "source": [
    "##### From the above result, we can see that the p-value is greater than 0.05, thus we can say that the total marks of students who have/ have not completed the test preparation course are normally distributed."
   ]
  },
  {
   "cell_type": "code",
   "execution_count": 281,
   "metadata": {},
   "outputs": [
    {
     "name": "stdout",
     "output_type": "stream",
     "text": [
      "Test statistic: 0.045113770764648356\n",
      "P-Value: 0.8331854285659768\n"
     ]
    }
   ],
   "source": [
    "# let us check the equality of the variances:\n",
    "# (this is used only for the two sample tests)\n",
    "\n",
    "stat, pval = stats.levene(n1_tscore,n2_tscore)\n",
    "print('Test statistic:', stat)\n",
    "print('P-Value:', pval)"
   ]
  },
  {
   "cell_type": "markdown",
   "metadata": {},
   "source": [
    "##### From the above result, we can see that the p-value is greater than 0.05, thus we can say that the population variances are equal."
   ]
  },
  {
   "cell_type": "code",
   "execution_count": 282,
   "metadata": {},
   "outputs": [],
   "source": [
    "# step1: Null and alternative hypothesis:\n",
    "\n",
    "# Ho : mu1 - mu2 = 0\n",
    "# H1 : mu1 - mu2 not=0.\n",
    "\n",
    "# Two tailed test:"
   ]
  },
  {
   "cell_type": "code",
   "execution_count": 283,
   "metadata": {},
   "outputs": [
    {
     "name": "stdout",
     "output_type": "stream",
     "text": [
      "The critical value for two-tailed t-test is: 2.04\n"
     ]
    }
   ],
   "source": [
    "# step2: t-test:\n",
    "\n",
    "# here pass the alpha/2 for q because its two tailed test.\n",
    "t_value = stats.t.isf(q=0.05/2,df=31)\n",
    "print('The critical value for two-tailed t-test is:',round(t_value,2))"
   ]
  },
  {
   "cell_type": "raw",
   "metadata": {},
   "source": [
    "# In this problem the dataset is given u can solve using inbuilt function.\n",
    "\n",
    "# pass ind(independent for unpaired sample data)\n",
    "stat, pval = stats.ttest_ind(a=n1_tscore, b=n2_tscore)\n",
    "print('test statistic:',stat)\n",
    "print('p-value:',pval)"
   ]
  },
  {
   "cell_type": "code",
   "execution_count": 287,
   "metadata": {},
   "outputs": [
    {
     "name": "stdout",
     "output_type": "stream",
     "text": [
      "The 95% confidence interval is: [-7.2553 41.9887]\n"
     ]
    }
   ],
   "source": [
    "# step3: confidence interval:\n",
    "\n",
    "# first find S :\n",
    "s = np.sqrt((((n1-1)*n1_std**2) + ((n2-1)*n2_std**2)) / (n1+n2-2))\n",
    "\n",
    "interval = stats.t.interval(0.95,df=n1+n2-2 ,loc=n1_mean-n2_mean, \n",
    "                           scale=s*np.sqrt(1/n1 +1/n2))\n",
    "print('The 95% confidence interval is:',np.round(interval,4))"
   ]
  },
  {
   "cell_type": "markdown",
   "metadata": {},
   "source": [
    "##### Conclusion.\n",
    "\n",
    "- We can see that the test statistic value is less than 2.04 and greater than -2.04.\n",
    "- the p-value is greater than 0.05.\n",
    "- also the confidence interval contains the value in the null hypothesis (i.e. 0).\n",
    "- Thus, we fail to reject (i.e. accept) the null hypothesis and conclude that there is no difference in the total marks of the students who have completed the preparation course and who have not completed the preparation course."
   ]
  },
  {
   "cell_type": "raw",
   "metadata": {},
   "source": [
    "2. An experiment was conducted to compare the pain relieving hours of two new medicines. Two groups of 14 and 15 patients were selected and were given comparable doses. Group 1 was given medicine 1 and group 2 was given medicine 2. The following data is obtained from the two samples. Test whether the two populations give the same mean hours of relief. Assume the data comes from normal distribution has an equal variance. Use α = 0.01\n",
    "\n",
    "                           \n",
    "                           Medicine 1    Medicine 2\n",
    "mean of hours of relief      6.4             7.3\n",
    "std of hours of relief       1.4             1.5"
   ]
  },
  {
   "cell_type": "code",
   "execution_count": 338,
   "metadata": {},
   "outputs": [
    {
     "data": {
      "text/plain": [
       "27"
      ]
     },
     "execution_count": 338,
     "metadata": {},
     "output_type": "execute_result"
    }
   ],
   "source": [
    "# Given data:\n",
    "\n",
    "# number of samples of the data:\n",
    "n1 = 14\n",
    "n2 = 15\n",
    "\n",
    "# average of the sample\n",
    "n1_mean = 6.4\n",
    "n2_mean = 7.3\n",
    "\n",
    "# standard deviation of the sample \n",
    "n1_std = 1.4\n",
    "n2_std = 1.5\n",
    "\n",
    "# degree of freedom\n",
    "dof = n1+n2-2\n",
    "dof"
   ]
  },
  {
   "cell_type": "code",
   "execution_count": 307,
   "metadata": {},
   "outputs": [],
   "source": [
    "# step1: Null and Alternative hypothesis:\n",
    "\n",
    "# Ho : mu1 - mu2 = 0\n",
    "# H1 : mu1 - mu2 not=0.\n",
    "\n",
    "# Two tailed test:"
   ]
  },
  {
   "cell_type": "code",
   "execution_count": 312,
   "metadata": {},
   "outputs": [
    {
     "name": "stdout",
     "output_type": "stream",
     "text": [
      "The critical value for two-tailed t-test is: 2.77\n",
      "t-score: -1.67\n"
     ]
    }
   ],
   "source": [
    "# step2: t-test:\n",
    "\n",
    "# pass alpha/2 for q because its two tailed test.\n",
    "t_value = stats.t.isf(q=0.01/2,df=dof)\n",
    "print('The critical value for two-tailed t-test is:',round(t_value,2))\n",
    "\n",
    "\n",
    "# first find s \n",
    "s = np.sqrt( ( ((n1-1)*n1_std**2) +  ((n2-1)*n2_std**2)  ) / (n1+n2-2)) \n",
    "\n",
    "t_score = ((n1_mean-n2_mean) - (0)) / (s*np.sqrt(1/n1 + 1/n2))\n",
    "print('t-score:',round(t_score,2))"
   ]
  },
  {
   "cell_type": "code",
   "execution_count": 313,
   "metadata": {},
   "outputs": [
    {
     "name": "stdout",
     "output_type": "stream",
     "text": [
      "p-value: 0.0012401306424251629\n"
     ]
    }
   ],
   "source": [
    "# step3: P-value test:\n",
    "\n",
    "p_value = stats.t.cdf(t_stat, df = 27)\n",
    "# for a two-tailed test multiply the p-value by 2\n",
    "req_p = p_value*2\n",
    "print('p-value:', req_p)"
   ]
  },
  {
   "cell_type": "code",
   "execution_count": 317,
   "metadata": {},
   "outputs": [
    {
     "name": "stdout",
     "output_type": "stream",
     "text": [
      "95% confidence interval for population mean is (-2.395737993074164, 0.5957379930741649)\n"
     ]
    }
   ],
   "source": [
    "# step4: Confidence Interval:\n",
    "\n",
    "interval = stats.t.interval(0.99,df=dof, loc=n1_mean-n2_mean,\n",
    "                           scale=s*np.sqrt(1/n1+1/n2))\n",
    "print('95% confidence interval for population mean is', interval)"
   ]
  },
  {
   "cell_type": "markdown",
   "metadata": {},
   "source": [
    "##### Conclusion.\n",
    "\n",
    "- We can see that the test statistic value is greater than -2.77. \n",
    "- the p-value is greater than 0.01.  also the confidence interval contains the value in the null hypothesis (i.e. 0).\n",
    "- Thus, we fail to reject (i.e. accept) the null hypothesis and conclude that the two medicines have the same hours of relief."
   ]
  },
  {
   "cell_type": "markdown",
   "metadata": {},
   "source": [
    "# Paired t Test.\n",
    "\n",
    "- DEPENDENT SAMPLES"
   ]
  },
  {
   "cell_type": "raw",
   "metadata": {},
   "source": [
    "Example:\n",
    "\n",
    "1. A training institute wants to check if their writing training program was effective or not. 17 students are selected to check the hypothesis. Consider 0.05 as the level of significance.\n",
    "\n",
    "The writing scores before and after training are provided in the CSV file WritingScores.csv."
   ]
  },
  {
   "cell_type": "code",
   "execution_count": 318,
   "metadata": {},
   "outputs": [
    {
     "data": {
      "text/html": [
       "<div>\n",
       "<style scoped>\n",
       "    .dataframe tbody tr th:only-of-type {\n",
       "        vertical-align: middle;\n",
       "    }\n",
       "\n",
       "    .dataframe tbody tr th {\n",
       "        vertical-align: top;\n",
       "    }\n",
       "\n",
       "    .dataframe thead th {\n",
       "        text-align: right;\n",
       "    }\n",
       "</style>\n",
       "<table border=\"1\" class=\"dataframe\">\n",
       "  <thead>\n",
       "    <tr style=\"text-align: right;\">\n",
       "      <th></th>\n",
       "      <th>score_before</th>\n",
       "      <th>score_after</th>\n",
       "    </tr>\n",
       "  </thead>\n",
       "  <tbody>\n",
       "    <tr>\n",
       "      <th>0</th>\n",
       "      <td>59</td>\n",
       "      <td>50</td>\n",
       "    </tr>\n",
       "    <tr>\n",
       "      <th>1</th>\n",
       "      <td>62</td>\n",
       "      <td>67</td>\n",
       "    </tr>\n",
       "  </tbody>\n",
       "</table>\n",
       "</div>"
      ],
      "text/plain": [
       "   score_before  score_after\n",
       "0            59           50\n",
       "1            62           67"
      ]
     },
     "execution_count": 318,
     "metadata": {},
     "output_type": "execute_result"
    }
   ],
   "source": [
    "# read the file containing writing scores  \n",
    "df_score = pd.read_csv('WritingScores.csv')\n",
    "\n",
    "# display the first two observations\n",
    "df_score.head(2)"
   ]
  },
  {
   "cell_type": "code",
   "execution_count": 322,
   "metadata": {},
   "outputs": [
    {
     "name": "stdout",
     "output_type": "stream",
     "text": [
      "Degrees of freedom: 16\n"
     ]
    }
   ],
   "source": [
    "# Calculate the difference of the marks.\n",
    "diff_marks = df_score['score_after'] - df_score['score_before']\n",
    "\n",
    "# calculate the mean difference\n",
    "mean_diff = np.mean(diff_marks)\n",
    "\n",
    "## calculate standard deviation of difference\n",
    "std_diff = statistics.stdev(diff_marks)\n",
    "\n",
    "# sample size\n",
    "n = len(df_score)\n",
    "\n",
    "print('Degrees of freedom:', n-1)\n"
   ]
  },
  {
   "cell_type": "code",
   "execution_count": 323,
   "metadata": {},
   "outputs": [
    {
     "name": "stdout",
     "output_type": "stream",
     "text": [
      "Test statistic: 0.9473825097084045\n",
      "P-Value: 0.416460782289505\n"
     ]
    }
   ],
   "source": [
    "# let us check the normality of the scores before the tranining\n",
    "stat, p_value = shapiro(df_score['score_before'])\n",
    "print('Test statistic:', stat)\n",
    "print('P-Value:', p_value)"
   ]
  },
  {
   "cell_type": "markdown",
   "metadata": {},
   "source": [
    "##### From the above result, we can see that the p-value is greater than 0.05, thus we can say that the scores before training are normally distributed."
   ]
  },
  {
   "cell_type": "code",
   "execution_count": 324,
   "metadata": {},
   "outputs": [
    {
     "name": "stdout",
     "output_type": "stream",
     "text": [
      "Test statistic: 0.9686523675918579\n",
      "P-Value: 0.7944130897521973\n"
     ]
    }
   ],
   "source": [
    "# Let us check the normality of the score after the training.\n",
    "stat, p_value = shapiro(df_score['score_after'])\n",
    "print('Test statistic:', stat)\n",
    "print('P-Value:', p_value)"
   ]
  },
  {
   "cell_type": "markdown",
   "metadata": {},
   "source": [
    "##### From the above result, we can see that the p-value is greater than 0.05, thus we can say that the scores after training are normally distributed."
   ]
  },
  {
   "cell_type": "code",
   "execution_count": 622,
   "metadata": {},
   "outputs": [],
   "source": [
    "# step1: Null and alternative hypothesis:\n",
    "\n",
    "# Ho : mu1 - mu2 = 0\n",
    "# H1 : mu1 - mu2 not= 0\n",
    "\n",
    "# two tailed test."
   ]
  },
  {
   "cell_type": "code",
   "execution_count": 327,
   "metadata": {},
   "outputs": [
    {
     "name": "stdout",
     "output_type": "stream",
     "text": [
      "The critical value for two-tailed t-test is: 2.12\n",
      "Test Statistic: -3.6067380757023204\n",
      "p-value: 0.16929012896279846\n"
     ]
    }
   ],
   "source": [
    "# step2 : t-test\n",
    "\n",
    "# here divide alpha/2 because its two tailed test\n",
    "t_value = stats.t.isf(q=0.05/2,df=16)\n",
    "print('The critical value for two-tailed t-test is:',round(t_value,2))\n",
    "\n",
    "# Here the dataset is given hence use inbuilt function.\n",
    "# Here this is depedent so pass rel(relative)\n",
    "stat, p_val = stats.ttest_rel(df_score['score_after'], df_score['score_before'])\n",
    "print(\"Test Statistic:\", t_stat)\n",
    "print(\"p-value:\", p_val)"
   ]
  },
  {
   "cell_type": "code",
   "execution_count": 328,
   "metadata": {},
   "outputs": [
    {
     "name": "stdout",
     "output_type": "stream",
     "text": [
      "90% confidence interval for population mean is (-3.0029069531297283, 15.708789306070905)\n"
     ]
    }
   ],
   "source": [
    "# step3: Confidence IntervaL:\n",
    "\n",
    "# In here for scale no need of entering two standard deviations just entered std_diff like one sample test.\n",
    "interval = stats.t.interval(0.95, df = n-1, loc = mean_diff, scale = std_diff/np.sqrt(n))\n",
    "print('90% confidence interval for population mean is', interval)"
   ]
  },
  {
   "cell_type": "markdown",
   "metadata": {},
   "source": [
    "##### Conclusion.\n",
    "\n",
    "- We can see that the test statistic value is less than 2.12 and greater than -2.12.\n",
    "- the p-value is greater than 0.05.\n",
    "- also the confidence interval contains the value in the null hypothesis (i.e. 0). Thus, we fail to reject (i.e. accept) the null hypothesis and conclude that the training was not effective."
   ]
  },
  {
   "cell_type": "raw",
   "metadata": {},
   "source": [
    "2. An energy drink distributor claims that a new advertisement poster, featuring a life-size picture of a well-known athlete, will increase the product sales in outlets by an average of 50 bottles in a week. For a random sample of 10 outlets, the following data was collected. Test that the null hypothesis that there the advertisement was effective in increasing sales. Test the hypothesis using critical region technique. Use α = 0.05.\n",
    "Given data:\n",
    "\n",
    "    sales_before = [33, 32, 38, 45, 37, 47, 48, 41, 45]\n",
    "    sales_after = [42, 35, 31, 41, 37, 36, 49, 49, 48]"
   ]
  },
  {
   "cell_type": "code",
   "execution_count": 347,
   "metadata": {},
   "outputs": [
    {
     "data": {
      "text/plain": [
       "8"
      ]
     },
     "execution_count": 347,
     "metadata": {},
     "output_type": "execute_result"
    }
   ],
   "source": [
    "# Given data:\n",
    "sales_before = [33, 32, 38, 45, 37, 47, 48, 41, 45]\n",
    "sales_after = [42, 35, 31, 41, 37, 36, 49, 49, 48]\n",
    "\n",
    "# number of samples:\n",
    "n = len(sales_before)\n",
    "\n",
    "# difference of the sales before and after:\n",
    "diff_sales = np.array(sales_before)-np.array(sales_after)\n",
    "\n",
    "# average of the difference sales:\n",
    "mean_diff = np.mean(mean_diff)\n",
    "\n",
    "# standard deviation of the different sales:\n",
    "std_diff = statistics.stdev(diff_sales)\n",
    "\n",
    "# Degree of freedom\n",
    "dof = n-1\n",
    "dof"
   ]
  },
  {
   "cell_type": "markdown",
   "metadata": {},
   "source": [
    "## The Null and Alternative Hypothesis:\n",
    "\n",
    "- Ho : mu1 - mu2 <= 0\n",
    "- H1 : mu1 - mu2 > 0\n",
    "\n",
    "- Right tailed test."
   ]
  },
  {
   "cell_type": "code",
   "execution_count": 349,
   "metadata": {},
   "outputs": [
    {
     "name": "stdout",
     "output_type": "stream",
     "text": [
      "The critical value of the right tailed t-test is: 1.86\n"
     ]
    }
   ],
   "source": [
    "# Step1: t-test\n",
    "\n",
    "t_value = stats.t.isf(q=0.05,df=8)\n",
    "print('The critical value of the right tailed t-test is:',round(t_value,2))\n"
   ]
  },
  {
   "cell_type": "code",
   "execution_count": 350,
   "metadata": {},
   "outputs": [
    {
     "name": "stdout",
     "output_type": "stream",
     "text": [
      "t-score: 0.10085458113185983\n",
      "P-value: 0.9221477146925299\n"
     ]
    }
   ],
   "source": [
    "# here the dataset is given we can use the builtint function to calculate t-score and p-value\n",
    "\n",
    "t_score, pval = stats.ttest_rel(sales_after,sales_before)\n",
    "print('t-score:',t_score)\n",
    "print('P-value:',pval)"
   ]
  },
  {
   "cell_type": "code",
   "execution_count": 354,
   "metadata": {},
   "outputs": [
    {
     "name": "stdout",
     "output_type": "stream",
     "text": [
      "The confidence interval is: [ 1.31 11.39]\n"
     ]
    }
   ],
   "source": [
    "# step2: Confidence Interval estimation:\n",
    "\n",
    "interval = stats.t.interval(0.95,df=8,loc=mean_diff , scale=std_diff/np.sqrt(n))\n",
    "print('The confidence interval is:',np.round(interval,2))"
   ]
  },
  {
   "cell_type": "markdown",
   "metadata": {},
   "source": [
    "##### Conclusion:\n",
    "\n",
    "- We can see that the test statistic value is less than 1.86.\n",
    "- The confidence interval doesnot contain the population mean. \n",
    "- Thus, we fail to reject (i.e. accept) the null hypothesis and conclude that there is no effect of advertisement.\n"
   ]
  },
  {
   "cell_type": "markdown",
   "metadata": {},
   "source": [
    "# Z Propotion test."
   ]
  },
  {
   "cell_type": "markdown",
   "metadata": {},
   "source": [
    "### 1. One sample test.\n",
    "\n",
    "-The null and alternative hypothesis is given as:\n",
    "\n",
    "<p style='text-indent:25em'> <strong> $H_{0}: P = P_{0}$ or $P \\geq P_{0}$ or $P \\leq P_{0}$</strong></p>\n",
    "<p style='text-indent:25em'> <strong> $H_{1}: P \\neq P_{0}$ or $P < P_{0}$ or $P > P_{0}$</strong></p>"
   ]
  },
  {
   "cell_type": "raw",
   "metadata": {},
   "source": [
    "Example:\n",
    "\n",
    "1. In previous years, people believed that at most 80% of male students score more than 50 marks out of 100 in Mathematics. Perform a test to check whether this percentage is more than 80. Consider the level of significance as 0.05.\n",
    "Consider the sample of math scores of male students available in the CSV file StudentsPerformance.csv."
   ]
  },
  {
   "cell_type": "code",
   "execution_count": 356,
   "metadata": {},
   "outputs": [
    {
     "data": {
      "text/html": [
       "<div>\n",
       "<style scoped>\n",
       "    .dataframe tbody tr th:only-of-type {\n",
       "        vertical-align: middle;\n",
       "    }\n",
       "\n",
       "    .dataframe tbody tr th {\n",
       "        vertical-align: top;\n",
       "    }\n",
       "\n",
       "    .dataframe thead th {\n",
       "        text-align: right;\n",
       "    }\n",
       "</style>\n",
       "<table border=\"1\" class=\"dataframe\">\n",
       "  <thead>\n",
       "    <tr style=\"text-align: right;\">\n",
       "      <th></th>\n",
       "      <th>gender</th>\n",
       "      <th>race/ethnicity</th>\n",
       "      <th>lunch</th>\n",
       "      <th>test preparation course</th>\n",
       "      <th>math score</th>\n",
       "      <th>reading score</th>\n",
       "      <th>writing score</th>\n",
       "      <th>total score</th>\n",
       "      <th>training institute</th>\n",
       "    </tr>\n",
       "  </thead>\n",
       "  <tbody>\n",
       "    <tr>\n",
       "      <th>0</th>\n",
       "      <td>female</td>\n",
       "      <td>group B</td>\n",
       "      <td>standard</td>\n",
       "      <td>none</td>\n",
       "      <td>89</td>\n",
       "      <td>55</td>\n",
       "      <td>56</td>\n",
       "      <td>200</td>\n",
       "      <td>Nature Learning</td>\n",
       "    </tr>\n",
       "    <tr>\n",
       "      <th>1</th>\n",
       "      <td>female</td>\n",
       "      <td>group C</td>\n",
       "      <td>standard</td>\n",
       "      <td>completed</td>\n",
       "      <td>55</td>\n",
       "      <td>63</td>\n",
       "      <td>72</td>\n",
       "      <td>190</td>\n",
       "      <td>Nature Learning</td>\n",
       "    </tr>\n",
       "  </tbody>\n",
       "</table>\n",
       "</div>"
      ],
      "text/plain": [
       "   gender race/ethnicity     lunch test preparation course  math score  \\\n",
       "0  female        group B  standard                    none          89   \n",
       "1  female        group C  standard               completed          55   \n",
       "\n",
       "   reading score  writing score  total score training institute  \n",
       "0             55             56          200    Nature Learning  \n",
       "1             63             72          190    Nature Learning  "
      ]
     },
     "execution_count": 356,
     "metadata": {},
     "output_type": "execute_result"
    }
   ],
   "source": [
    "df= pd.read_csv('StudentsPerformance.csv')\n",
    "df.head(2)"
   ]
  },
  {
   "cell_type": "code",
   "execution_count": 398,
   "metadata": {},
   "outputs": [],
   "source": [
    "# filter out only the male students and their math score.\n",
    "df_male = df[df['gender']=='male']['math score']\n",
    "\n",
    "# total number of the male students:\n",
    "total_male = len(df_male)\n",
    "\n",
    "# And also we need the male students math score > 50\n",
    "df_male_math = df_male[df_male>50]\n",
    "\n",
    "# total number of male mathscore greater than 50\n",
    "total_male_50 = len(df_male_math)\n",
    "\n",
    "# population propotion:\n",
    "pop_pro = 0.8\n",
    "\n",
    "# Calculation of the sample propotion:\n",
    "samp_pro = total_male_50/total_male"
   ]
  },
  {
   "cell_type": "code",
   "execution_count": 399,
   "metadata": {},
   "outputs": [],
   "source": [
    "# The Null and alternative Hypothesis:\n",
    "\n",
    "# Ho : P <= 0.8\n",
    "# H1 : P > 0.8\n",
    "\n",
    "# Right tailed test."
   ]
  },
  {
   "cell_type": "code",
   "execution_count": 411,
   "metadata": {},
   "outputs": [
    {
     "name": "stdout",
     "output_type": "stream",
     "text": [
      "The critical value for one tailed z-test is: 1.64\n",
      "z-score: 4.163394160018601\n"
     ]
    }
   ],
   "source": [
    "# step1: Z-test:\n",
    "\n",
    "z_value = stats.norm.isf(q=0.05)\n",
    "print('The critical value for one tailed z-test is:',round(z_value,2))\n",
    "\n",
    "pop_pro = 0.8\n",
    "z_score = (samp_pro- pop_pro) / np.sqrt( (pop_pro* (1-pop_pro))/ total_male)\n",
    "print('z-score:',z_score)"
   ]
  },
  {
   "cell_type": "code",
   "execution_count": 412,
   "metadata": {},
   "outputs": [
    {
     "name": "stdout",
     "output_type": "stream",
     "text": [
      "p-value: 1.5677570141208797e-05\n"
     ]
    }
   ],
   "source": [
    "# step2 : p-value:\n",
    "\n",
    "# here its right tailed use sf()\n",
    "p_value = stats.norm.sf(z_score)\n",
    "print('p-value:', p_value)"
   ]
  },
  {
   "cell_type": "code",
   "execution_count": 410,
   "metadata": {},
   "outputs": [
    {
     "name": "stdout",
     "output_type": "stream",
     "text": [
      "The confidence interval is : (0.8741532389361987, 0.8773995560948572)\n"
     ]
    }
   ],
   "source": [
    "# Step3: Confidence interval estimation:\n",
    "\n",
    "interval = stats.norm.interval(0.95, loc = samp_pro, scale = np.sqrt(pop_pro * (1 - pop_pro))/(total_male))\n",
    "print('The confidence interval is :',interval)"
   ]
  },
  {
   "cell_type": "markdown",
   "metadata": {},
   "source": [
    "# Conclusion:\n",
    "\n",
    "- Here the z-score is greater than 1.64.\n",
    "- the p-value is less than 0.05.\n",
    "- also the confidence interval does not contain the value in the null hypothesis (i.e. 0.8).\n",
    "- Thus, we reject the null hypothesis and we have enough evidence to conclude that the percentage of male students scoring more than 50 marks in Mathematics is more than 80%.\n",
    "\n"
   ]
  },
  {
   "cell_type": "raw",
   "metadata": {},
   "source": [
    "2. From a sample of 361 business owners had gone into bankruptcy due to recession. On taking a survey, it was found that 105 of them had not consulted any professional for managing their finance before opening the business. Test the null hypothesis that at most 25% of all businesses had not consulted before opening the business. Test the claim using p-value technique. Use α = 0.05."
   ]
  },
  {
   "cell_type": "code",
   "execution_count": null,
   "metadata": {},
   "outputs": [],
   "source": [
    "# The null and Alternative hypothesis:\n",
    "\n",
    "# Ho : P <= 0.25\n",
    "# H1 : P > 0.25            # if theres atmost take as greater than.\n",
    "\n",
    "# Right tailed test"
   ]
  },
  {
   "cell_type": "code",
   "execution_count": 413,
   "metadata": {},
   "outputs": [],
   "source": [
    "# Given data:\n",
    "\n",
    "# Total number of owners had gone into bankruptcy.\n",
    "n = 361\n",
    "\n",
    "# Number of owners not consulted \n",
    "x = 105\n",
    "\n",
    "# sample propotion\n",
    "samp_pro = x/n\n",
    "\n",
    "# population propotion\n",
    "pop_pro = 0.25"
   ]
  },
  {
   "cell_type": "code",
   "execution_count": 415,
   "metadata": {},
   "outputs": [
    {
     "name": "stdout",
     "output_type": "stream",
     "text": [
      "z-score: 1.79\n",
      "P-value: 0.04\n"
     ]
    }
   ],
   "source": [
    "# Test The claim with p-value techinque:\n",
    "\n",
    "z_score = (samp_pro-pop_pro) / np.sqrt( (pop_pro*(1-pop_pro)) / n )\n",
    "print('z-score:',round(z_score,2))\n",
    "\n",
    "# its right tailed use sf()\n",
    "p_value = stats.norm.sf(z_score)\n",
    "print('P-value:',round(p_value,2))"
   ]
  },
  {
   "cell_type": "markdown",
   "metadata": {},
   "source": [
    "# Conclusion:\n",
    "\n",
    "- Here the p-value is less than 0.05. \n",
    "- Thus, we reject the null hypothesis and conclude that at least 25% of all businesses had not consulted before starting the business.\n"
   ]
  },
  {
   "cell_type": "markdown",
   "metadata": {},
   "source": [
    "### 2.Two Sample Test"
   ]
  },
  {
   "cell_type": "raw",
   "metadata": {},
   "source": [
    "Example:\n",
    "\n",
    "1. A team of nutritionists believes that each institute provides 'standard' lunch to an equal proportion of students. A sample of students from institutes Nature Learning and Speak Global Learning is given. Consider the null hypothesis as equality of proportion with 0.1 level of significance.\n",
    "\n",
    "Consider the sample data available in the CSV file StudentsPerformance.csv."
   ]
  },
  {
   "cell_type": "code",
   "execution_count": 486,
   "metadata": {},
   "outputs": [
    {
     "data": {
      "text/html": [
       "<div>\n",
       "<style scoped>\n",
       "    .dataframe tbody tr th:only-of-type {\n",
       "        vertical-align: middle;\n",
       "    }\n",
       "\n",
       "    .dataframe tbody tr th {\n",
       "        vertical-align: top;\n",
       "    }\n",
       "\n",
       "    .dataframe thead th {\n",
       "        text-align: right;\n",
       "    }\n",
       "</style>\n",
       "<table border=\"1\" class=\"dataframe\">\n",
       "  <thead>\n",
       "    <tr style=\"text-align: right;\">\n",
       "      <th></th>\n",
       "      <th>gender</th>\n",
       "      <th>race/ethnicity</th>\n",
       "      <th>lunch</th>\n",
       "      <th>test preparation course</th>\n",
       "      <th>math score</th>\n",
       "      <th>reading score</th>\n",
       "      <th>writing score</th>\n",
       "      <th>total score</th>\n",
       "      <th>training institute</th>\n",
       "    </tr>\n",
       "  </thead>\n",
       "  <tbody>\n",
       "    <tr>\n",
       "      <th>0</th>\n",
       "      <td>female</td>\n",
       "      <td>group B</td>\n",
       "      <td>standard</td>\n",
       "      <td>none</td>\n",
       "      <td>89</td>\n",
       "      <td>55</td>\n",
       "      <td>56</td>\n",
       "      <td>200</td>\n",
       "      <td>Nature Learning</td>\n",
       "    </tr>\n",
       "    <tr>\n",
       "      <th>1</th>\n",
       "      <td>female</td>\n",
       "      <td>group C</td>\n",
       "      <td>standard</td>\n",
       "      <td>completed</td>\n",
       "      <td>55</td>\n",
       "      <td>63</td>\n",
       "      <td>72</td>\n",
       "      <td>190</td>\n",
       "      <td>Nature Learning</td>\n",
       "    </tr>\n",
       "  </tbody>\n",
       "</table>\n",
       "</div>"
      ],
      "text/plain": [
       "   gender race/ethnicity     lunch test preparation course  math score  \\\n",
       "0  female        group B  standard                    none          89   \n",
       "1  female        group C  standard               completed          55   \n",
       "\n",
       "   reading score  writing score  total score training institute  \n",
       "0             55             56          200    Nature Learning  \n",
       "1             63             72          190    Nature Learning  "
      ]
     },
     "execution_count": 486,
     "metadata": {},
     "output_type": "execute_result"
    }
   ],
   "source": [
    "df_student = pd.read_csv('StudentsPerformance.csv')\n",
    "df_student.head(2)"
   ]
  },
  {
   "cell_type": "code",
   "execution_count": 491,
   "metadata": {},
   "outputs": [
    {
     "data": {
      "text/plain": [
       "array(['Nature Learning', 'Speak Global Learning'], dtype=object)"
      ]
     },
     "execution_count": 491,
     "metadata": {},
     "output_type": "execute_result"
    }
   ],
   "source": [
    "# get the training institutes in the dataframe\n",
    "df_student['training institute'].unique()"
   ]
  },
  {
   "cell_type": "code",
   "execution_count": 500,
   "metadata": {},
   "outputs": [],
   "source": [
    "# now we need to filter of the 2 seperate institute with the standard lunch\n",
    "\n",
    "# Total sample of NL AND SGL\n",
    "df_nl = df_student[df_student['training institute'] == 'Nature Learning']\n",
    "df_sg = df_student[df_student['training institute'] == 'Speak Global Learning']\n",
    "\n",
    "# Number of total NL and SGL\n",
    "n1 = len(df_nl) \n",
    "n2 =len(df_sg)\n",
    "\n",
    "# number of the students with standard lunch\n",
    "n1_std= len(df_nl[df_nl['lunch'] == 'standard'])\n",
    "n2_std= len(df_sg[df_sg['lunch'] == 'standard'])"
   ]
  },
  {
   "cell_type": "code",
   "execution_count": 494,
   "metadata": {},
   "outputs": [],
   "source": [
    "# The Null and Alternative Hypothesis:\n",
    "\n",
    "# Ho : P1 - P2 = 0\n",
    "# H1 : P1 - P2 not= 0\n",
    "\n",
    "# Two tailed test"
   ]
  },
  {
   "cell_type": "code",
   "execution_count": 495,
   "metadata": {},
   "outputs": [
    {
     "name": "stdout",
     "output_type": "stream",
     "text": [
      "Critical value for two-tailed Z-test: 1.64\n"
     ]
    }
   ],
   "source": [
    "# step1 : z-test\n",
    "\n",
    "# its two tailed divide the alpha by 2.\n",
    "z_val = np.abs(round(stats.norm.isf(q = 0.1/2), 2))\n",
    "print('Critical value for two-tailed Z-test:', z_val)"
   ]
  },
  {
   "cell_type": "code",
   "execution_count": 496,
   "metadata": {},
   "outputs": [
    {
     "name": "stdout",
     "output_type": "stream",
     "text": [
      "Test statistic: 0.7935300106078008\n",
      "p-value: 0.4274690915859791\n"
     ]
    }
   ],
   "source": [
    "# step2: z_score and p-value with inbuilt function:\n",
    "\n",
    "import statsmodels.api as sm\n",
    "\n",
    "z_prop, p_val = sm.stats.proportions_ztest(count = np.array([n1_std,n2_std]), \n",
    "                                             nobs = np.array([n1,n2]))\n",
    "\n",
    "# print the value of test statstic and the corresponding p-value\n",
    "print('Test statistic:', z_prop)\n",
    "print('p-value:', p_val)"
   ]
  },
  {
   "cell_type": "raw",
   "metadata": {},
   "source": [
    "# Z score finding without the inbuilt function:\n",
    "\n",
    "# sample propotions of two samples:\n",
    "\n",
    "samp_pro1 = N_NL_ST / N_NL\n",
    "samp_pro2 = N_SGL_ST / N_SGL\n",
    "\n",
    "# Pooled sample propotion is :\n",
    "pbar = (N_NL*samp_pro1+N_SGL*samp_pro2) / (N_NL+N_SGL)\n",
    "\n",
    "\n",
    "# Z-score:\n",
    "z_score = (samp_pro1 - samp_pro2) / np.sqrt( (pbar*(1-pbar)*(1/N_NL+N_SGL)))\n",
    "print('z-score:',z_score)                                       "
   ]
  },
  {
   "cell_type": "raw",
   "metadata": {},
   "source": [
    "# step3: Confidence interval estimation:\n",
    "\n",
    "# sample propotions of two samples:\n",
    "\n",
    "p1= n1_std / n1 \n",
    "p2 = n2_std / n2\n",
    "\n",
    "# Pooled sample propotion is :\n",
    "p_bar = (n1*p1 + n2*p2) / (n1+n2)\n",
    "p1-p2\n",
    "\n",
    "interval = stats.norm.interval(0.9, loc = p1-p2, scale = np.sqrt(p_bar*(1-p_bar)*(1/ n1  + 1/n2)))\n",
    "print('The confidence interval is',interval)"
   ]
  },
  {
   "cell_type": "raw",
   "metadata": {},
   "source": [
    "2. Steve owns a kiosk where he sells two magazines - A and B in a month. He buys 100 copies of magazine A out of which 78 were sold and 70 copies of magazine B out of which 65 were sold. Is there enough evidence to say that magazine is B is more popular? Test the claim using p-value technique with α = 0.05."
   ]
  },
  {
   "cell_type": "code",
   "execution_count": 505,
   "metadata": {},
   "outputs": [],
   "source": [
    "# Step1 : Null and alternative Hypothesis:\n",
    "\n",
    "# Ho : P1 - P2 >=0\n",
    "# H1 : P1 - P2 < 0\n",
    "\n",
    "# left tailed test."
   ]
  },
  {
   "cell_type": "code",
   "execution_count": 506,
   "metadata": {},
   "outputs": [
    {
     "name": "stdout",
     "output_type": "stream",
     "text": [
      "Test statistic: -2.60830803458311\n",
      "p-value: 0.004549551600547303\n"
     ]
    }
   ],
   "source": [
    "# copies of magazine A and B\n",
    "num_A = 100\n",
    "num_B = 70\n",
    "\n",
    "# number of copies sold for magazine A  and B\n",
    "x_A = 78\n",
    "x_B = 65\n",
    "\n",
    "# using the inbuilt function: ( use smaller its left tailed)\n",
    "z_prop, p_val = sm.stats.proportions_ztest(count = np.array([x_A, x_B]), \n",
    "                                             nobs = np.array([num_A, num_B]),  \n",
    "                                             alternative = 'smaller')\n",
    "print('Test statistic:', z_prop)\n",
    "print('p-value:', p_val)\n"
   ]
  },
  {
   "cell_type": "markdown",
   "metadata": {},
   "source": [
    "##### Conclusion:\n",
    "\n",
    "- Here the p-value is less than 0.05. \n",
    "- Thus, we reject the null hypothesis and conclude that there is enough evidence to say that magazine B is more popular."
   ]
  },
  {
   "cell_type": "markdown",
   "metadata": {},
   "source": [
    "# Day 04"
   ]
  },
  {
   "cell_type": "markdown",
   "metadata": {},
   "source": [
    "# Chi - Square Test:\n",
    "- **Non parametric test** . Non-parametric tests do not require any assumptions on the parameter of the population from which the sample is taken. \n",
    "- The chi-square test statistic follows a Chi-square ($\\chi^{2}$) distribution under the null hypothesis. **It can be used to check the relationship between the categorical variables.** "
   ]
  },
  {
   "cell_type": "markdown",
   "metadata": {},
   "source": [
    "# 1. Chi-Square Test for Goodness of Fit:\n",
    "- This test is used to **compare the distribution of the categorical data** with the expected distribution.\n",
    "- <p style='text-indent:6em'> <strong> $H_{0}$: There is no significant difference between the observed and expected frequencies from the expected distribution</strong></p>\n",
    "- <p style='text-indent:6em'> <strong> $H_{1}$: There is a significant difference between the observed and expected frequencies from the expected distribution</strong></p>"
   ]
  },
  {
   "cell_type": "raw",
   "metadata": {},
   "source": [
    "Example:\n",
    "\n",
    "1. Check whether there is a significant difference between the observed and expected education values or not with 90% confidence.\n",
    "\n",
    "Consider the observed values from the performance dataset of students available in the CSV file students_data.csv. \n",
    "Consider the expected values from the demographic data given in the CSV file demographic_data.csv."
   ]
  },
  {
   "cell_type": "code",
   "execution_count": 514,
   "metadata": {},
   "outputs": [
    {
     "data": {
      "text/html": [
       "<div>\n",
       "<style scoped>\n",
       "    .dataframe tbody tr th:only-of-type {\n",
       "        vertical-align: middle;\n",
       "    }\n",
       "\n",
       "    .dataframe tbody tr th {\n",
       "        vertical-align: top;\n",
       "    }\n",
       "\n",
       "    .dataframe thead th {\n",
       "        text-align: right;\n",
       "    }\n",
       "</style>\n",
       "<table border=\"1\" class=\"dataframe\">\n",
       "  <thead>\n",
       "    <tr style=\"text-align: right;\">\n",
       "      <th></th>\n",
       "      <th>gender</th>\n",
       "      <th>ethnicity</th>\n",
       "      <th>education</th>\n",
       "      <th>lunch</th>\n",
       "      <th>test_prep_course</th>\n",
       "      <th>math_score</th>\n",
       "      <th>reading_score</th>\n",
       "      <th>writing_score</th>\n",
       "      <th>total_score</th>\n",
       "      <th>training_institute</th>\n",
       "    </tr>\n",
       "  </thead>\n",
       "  <tbody>\n",
       "    <tr>\n",
       "      <th>0</th>\n",
       "      <td>female</td>\n",
       "      <td>group B</td>\n",
       "      <td>bachelor's degree</td>\n",
       "      <td>standard</td>\n",
       "      <td>none</td>\n",
       "      <td>89</td>\n",
       "      <td>55</td>\n",
       "      <td>56</td>\n",
       "      <td>200</td>\n",
       "      <td>Nature Learning</td>\n",
       "    </tr>\n",
       "    <tr>\n",
       "      <th>1</th>\n",
       "      <td>female</td>\n",
       "      <td>group C</td>\n",
       "      <td>college</td>\n",
       "      <td>standard</td>\n",
       "      <td>completed</td>\n",
       "      <td>55</td>\n",
       "      <td>63</td>\n",
       "      <td>72</td>\n",
       "      <td>190</td>\n",
       "      <td>Nature Learning</td>\n",
       "    </tr>\n",
       "  </tbody>\n",
       "</table>\n",
       "</div>"
      ],
      "text/plain": [
       "   gender ethnicity          education     lunch test_prep_course  math_score  \\\n",
       "0  female   group B  bachelor's degree  standard             none          89   \n",
       "1  female   group C            college  standard        completed          55   \n",
       "\n",
       "   reading_score  writing_score  total_score training_institute  \n",
       "0             55             56          200    Nature Learning  \n",
       "1             63             72          190    Nature Learning  "
      ]
     },
     "execution_count": 514,
     "metadata": {},
     "output_type": "execute_result"
    }
   ],
   "source": [
    "# read the dataset for observed value.\n",
    "\n",
    "df_s = pd.read_csv('students_data.csv')\n",
    "df_s.head(2)"
   ]
  },
  {
   "cell_type": "code",
   "execution_count": 517,
   "metadata": {},
   "outputs": [
    {
     "data": {
      "text/html": [
       "<div>\n",
       "<style scoped>\n",
       "    .dataframe tbody tr th:only-of-type {\n",
       "        vertical-align: middle;\n",
       "    }\n",
       "\n",
       "    .dataframe tbody tr th {\n",
       "        vertical-align: top;\n",
       "    }\n",
       "\n",
       "    .dataframe thead th {\n",
       "        text-align: right;\n",
       "    }\n",
       "</style>\n",
       "<table border=\"1\" class=\"dataframe\">\n",
       "  <thead>\n",
       "    <tr style=\"text-align: right;\">\n",
       "      <th></th>\n",
       "      <th>education</th>\n",
       "    </tr>\n",
       "  </thead>\n",
       "  <tbody>\n",
       "    <tr>\n",
       "      <th>0</th>\n",
       "      <td>bachelor's degree</td>\n",
       "    </tr>\n",
       "    <tr>\n",
       "      <th>1</th>\n",
       "      <td>college</td>\n",
       "    </tr>\n",
       "  </tbody>\n",
       "</table>\n",
       "</div>"
      ],
      "text/plain": [
       "           education\n",
       "0  bachelor's degree\n",
       "1            college"
      ]
     },
     "execution_count": 517,
     "metadata": {},
     "output_type": "execute_result"
    }
   ],
   "source": [
    "# read the datset for the expected value.\n",
    "\n",
    "df_d = pd.read_csv('demographic_data.csv')\n",
    "df_d.head(2)"
   ]
  },
  {
   "cell_type": "markdown",
   "metadata": {},
   "source": [
    "### The Null and the Alternative Hypothesis is:\n",
    "- Ho : There is no significant difference between the observed and expected values.\n",
    "- H1 : There is significant difference between the observed and expected values.    "
   ]
  },
  {
   "cell_type": "code",
   "execution_count": 522,
   "metadata": {},
   "outputs": [
    {
     "data": {
      "text/plain": [
       "college               225\n",
       "associate's degree    222\n",
       "high school           197\n",
       "Ph.D.                 179\n",
       "bachelor's degree     118\n",
       "master's degree        59\n",
       "Name: education, dtype: int64"
      ]
     },
     "execution_count": 522,
     "metadata": {},
     "output_type": "execute_result"
    }
   ],
   "source": [
    "# calculate the count for each category of the variable 'education'\n",
    "# dataset - 'students_data.csv'\n",
    "\n",
    "obs_value = df_s['education'].value_counts()\n",
    "obs_value"
   ]
  },
  {
   "cell_type": "code",
   "execution_count": 526,
   "metadata": {},
   "outputs": [
    {
     "name": "stdout",
     "output_type": "stream",
     "text": [
      "college               203.583062\n",
      "associate's degree    195.439739\n",
      "high school           179.153094\n",
      "Ph.D.                 171.009772\n",
      "bachelor's degree     153.094463\n",
      "master's degree        97.719870\n",
      "Name: education, dtype: float64\n"
     ]
    }
   ],
   "source": [
    "\n",
    "# Calculate the count of the each category of the variable 'education'.\n",
    "# datset - 'demographic_data.csv'\n",
    "exp_count = df_d['education'].value_counts()\n",
    "\n",
    "\n",
    "# calculate the expected value.\n",
    "exp_value = (expected_count/len(df_d))*len(df_s)\n",
    "print(exp_value)\n"
   ]
  },
  {
   "cell_type": "code",
   "execution_count": 527,
   "metadata": {},
   "outputs": [
    {
     "name": "stdout",
     "output_type": "stream",
     "text": [
      "Observed Values:  [225, 222, 197, 179, 118, 59]\n",
      "Expected Values:  [203.5830618892508, 195.4397394136808, 179.1530944625407, 171.0097719869707, 153.09446254071662, 97.7198697068404]\n"
     ]
    }
   ],
   "source": [
    "# create a list of observed values and expected values:\n",
    "print(\"Observed Values: \", list(obs_value))\n",
    "print(\"Expected Values: \", list(exp_value))"
   ]
  },
  {
   "cell_type": "code",
   "execution_count": 528,
   "metadata": {},
   "outputs": [],
   "source": [
    "# For alpha = 0.1 and degree of freedom = 5 (len(obs_val - 1))"
   ]
  },
  {
   "cell_type": "code",
   "execution_count": 529,
   "metadata": {},
   "outputs": [
    {
     "name": "stdout",
     "output_type": "stream",
     "text": [
      "The critical value for chi-square is: 9.24\n"
     ]
    }
   ],
   "source": [
    "# Calculate the chi-square value for 90% confidence interval:\n",
    "\n",
    "chi2_val = stats.chi2.isf(q=0.1,df=5)\n",
    "print('The critical value for chi-square is:',round(chi2_val,2))"
   ]
  },
  {
   "cell_type": "code",
   "execution_count": 531,
   "metadata": {},
   "outputs": [
    {
     "name": "stdout",
     "output_type": "stream",
     "text": [
      "chi2_score: 31.4\n",
      "P-value: 0.0\n"
     ]
    }
   ],
   "source": [
    "# Calculate the chi2_score and p-value with the inbuilt function:\n",
    "\n",
    "from scipy.stats import chi2_contingency\n",
    "from scipy.stats import chi2\n",
    "from scipy.stats import chisquare\n",
    "\n",
    "chi2_score, pval = chisquare(f_obs = obs_value, f_exp = exp_value)\n",
    "print('chi2_score:',round(chi2_score,2))\n",
    "print('P-value:',round(pval,2))"
   ]
  },
  {
   "cell_type": "markdown",
   "metadata": {},
   "source": [
    "##### Conclusion:\n",
    "\n",
    "- The above output shows that the chi-square test statistic is greater than 9.2364.\n",
    "- and the p-value is less than 0.1.\n",
    "- thus, we reject the null hypothesis and conclude that there is a significant difference between the observed and expected values."
   ]
  },
  {
   "cell_type": "raw",
   "metadata": {},
   "source": [
    "2. At an emporium, the manager is interested in knowing the age group which visits the mall during the day. He defines categories as - children, teenagers, adults and senior citizens. He plans to have his inventory of goods accordingly. He claims that out of all the people who visited 5% are children, 38% are teenagers, 2% are senior citizens are remaining are adults. From a sample of 180 people, it was seen that 25 were children, 50 were teenagers, 90 were adults and 15 were senior citizens. Test the manager’s claim at a 95% confidence level."
   ]
  },
  {
   "cell_type": "markdown",
   "metadata": {},
   "source": [
    "### The null and alternative hypothesis is:\n",
    "\n",
    "- H0: The manager's claim is correct\n",
    "- H1: The manager's claim is not correct"
   ]
  },
  {
   "cell_type": "code",
   "execution_count": 532,
   "metadata": {},
   "outputs": [],
   "source": [
    "# For alpha = 0.05 and degree of freedom 4-1 = 3."
   ]
  },
  {
   "cell_type": "code",
   "execution_count": 577,
   "metadata": {},
   "outputs": [],
   "source": [
    "# observerd value :\n",
    "obs_val = [25, 50, 90, 15]\n",
    "\n",
    "# expected count:\n",
    "exp_count = [0.05, 0.38, 0.55, 0.02]  # in here always maintain the same order as in the given question\n",
    "\n",
    "# Calculating the expected value:\n",
    "# expected_value = (np.array(exp_count)*N)\n",
    "np.round((np.array(exp_count)*180))\n",
    "# above one is the similist way to cal expected value and then convert it into list manually\n",
    "exp_val = [9,68,99,4]"
   ]
  },
  {
   "cell_type": "code",
   "execution_count": 578,
   "metadata": {},
   "outputs": [
    {
     "name": "stdout",
     "output_type": "stream",
     "text": [
      "The critical value for chi square test is: 7.81\n"
     ]
    }
   ],
   "source": [
    "# critical value techinque:\n",
    "\n",
    "chi2_val = stats.chi2.isf(q=0.05,df=3)\n",
    "print('The critical value for chi square test is:',round(chi2_val,2))"
   ]
  },
  {
   "cell_type": "code",
   "execution_count": 579,
   "metadata": {},
   "outputs": [
    {
     "name": "stdout",
     "output_type": "stream",
     "text": [
      "chi2_score: 64.2773321449792\n",
      "P-value: 0.0\n"
     ]
    }
   ],
   "source": [
    "# Calculate the chi2_score and p-value with the inbuilt function:\n",
    "\n",
    "from scipy.stats import chi2_contingency\n",
    "from scipy.stats import chi2\n",
    "from scipy.stats import chisquare\n",
    "\n",
    "chi2_score, pval = chisquare(f_obs = obs_val, f_exp = exp_val)\n",
    "print('chi2_score:',chi2_score)\n",
    "print('P-value:',round(pval,2))"
   ]
  },
  {
   "cell_type": "markdown",
   "metadata": {},
   "source": [
    "##### Conclusion:\n",
    "\n",
    "- The above output shows that the chi-square test statistic is greater than 7.8147.\n",
    "- and the p-value is less than 0.05.\n",
    "- Thus, we reject the null hypothesis and conclude that manager's claim is not correct."
   ]
  },
  {
   "cell_type": "markdown",
   "metadata": {},
   "source": [
    "# 2. Chi-Square Test for Independence \n",
    "- This test is used to **test whether the categorical variables are independent or not**.\n",
    "\n",
    "- 𝐻0 : The variables are independent\n",
    "\n",
    "- 𝐻1 : The variables are not independent"
   ]
  },
  {
   "cell_type": "raw",
   "metadata": {},
   "source": [
    "Example:\n",
    "\n",
    "1. Check if there is any relationship between the gender and education level of students with 95% confidence.\n",
    "\n",
    "Use the performance dataset of students available in the CSV file students_data.csv."
   ]
  },
  {
   "cell_type": "code",
   "execution_count": 580,
   "metadata": {},
   "outputs": [
    {
     "data": {
      "text/html": [
       "<div>\n",
       "<style scoped>\n",
       "    .dataframe tbody tr th:only-of-type {\n",
       "        vertical-align: middle;\n",
       "    }\n",
       "\n",
       "    .dataframe tbody tr th {\n",
       "        vertical-align: top;\n",
       "    }\n",
       "\n",
       "    .dataframe thead th {\n",
       "        text-align: right;\n",
       "    }\n",
       "</style>\n",
       "<table border=\"1\" class=\"dataframe\">\n",
       "  <thead>\n",
       "    <tr style=\"text-align: right;\">\n",
       "      <th></th>\n",
       "      <th>gender</th>\n",
       "      <th>ethnicity</th>\n",
       "      <th>education</th>\n",
       "      <th>lunch</th>\n",
       "      <th>test_prep_course</th>\n",
       "      <th>math_score</th>\n",
       "      <th>reading_score</th>\n",
       "      <th>writing_score</th>\n",
       "      <th>total_score</th>\n",
       "      <th>training_institute</th>\n",
       "    </tr>\n",
       "  </thead>\n",
       "  <tbody>\n",
       "    <tr>\n",
       "      <th>0</th>\n",
       "      <td>female</td>\n",
       "      <td>group B</td>\n",
       "      <td>bachelor's degree</td>\n",
       "      <td>standard</td>\n",
       "      <td>none</td>\n",
       "      <td>89</td>\n",
       "      <td>55</td>\n",
       "      <td>56</td>\n",
       "      <td>200</td>\n",
       "      <td>Nature Learning</td>\n",
       "    </tr>\n",
       "    <tr>\n",
       "      <th>1</th>\n",
       "      <td>female</td>\n",
       "      <td>group C</td>\n",
       "      <td>college</td>\n",
       "      <td>standard</td>\n",
       "      <td>completed</td>\n",
       "      <td>55</td>\n",
       "      <td>63</td>\n",
       "      <td>72</td>\n",
       "      <td>190</td>\n",
       "      <td>Nature Learning</td>\n",
       "    </tr>\n",
       "  </tbody>\n",
       "</table>\n",
       "</div>"
      ],
      "text/plain": [
       "   gender ethnicity          education     lunch test_prep_course  math_score  \\\n",
       "0  female   group B  bachelor's degree  standard             none          89   \n",
       "1  female   group C            college  standard        completed          55   \n",
       "\n",
       "   reading_score  writing_score  total_score training_institute  \n",
       "0             55             56          200    Nature Learning  \n",
       "1             63             72          190    Nature Learning  "
      ]
     },
     "execution_count": 580,
     "metadata": {},
     "output_type": "execute_result"
    }
   ],
   "source": [
    "df_s = pd.read_csv('students_data.csv')\n",
    "df_s.head(2)"
   ]
  },
  {
   "cell_type": "markdown",
   "metadata": {},
   "source": [
    "### The Null and Alternative Hypothesis is:\n",
    "- Ho : The variables gender and education are independent.\n",
    "- H1 : The variables gender and education are not independent."
   ]
  },
  {
   "cell_type": "code",
   "execution_count": 584,
   "metadata": {},
   "outputs": [
    {
     "data": {
      "text/plain": [
       "array([[ 91, 116,  63, 117,  94,  36],\n",
       "       [ 88, 106,  55, 108, 103,  23]], dtype=int64)"
      ]
     },
     "execution_count": 584,
     "metadata": {},
     "output_type": "execute_result"
    }
   ],
   "source": [
    "# crosstab the categorical data:\n",
    "table = pd.crosstab(df_s['gender'],df_s['education'])\n",
    "\n",
    "# lets take the values of the table as observed values:\n",
    "obs_val = table.values\n",
    "obs_val"
   ]
  },
  {
   "cell_type": "code",
   "execution_count": 585,
   "metadata": {},
   "outputs": [],
   "source": [
    "# the aplha is 0.05.\n",
    "# Degree of the freedom is =  no. of observations - 1 (6-1) = 5"
   ]
  },
  {
   "cell_type": "code",
   "execution_count": 586,
   "metadata": {},
   "outputs": [
    {
     "name": "stdout",
     "output_type": "stream",
     "text": [
      "The critical value for chi square test is: 11.07\n"
     ]
    }
   ],
   "source": [
    "# lets calculate the critical value:\n",
    "chi2_val = stats.chi2.isf(q=0.05,df=5)\n",
    "print('The critical value for chi square test is:',round(chi2_val,2))"
   ]
  },
  {
   "cell_type": "code",
   "execution_count": 588,
   "metadata": {},
   "outputs": [
    {
     "name": "stdout",
     "output_type": "stream",
     "text": [
      "chi2_score: 3.5267538812534243\n",
      "P-value: 0.6193433487137843\n",
      "degree of freedom: 5\n",
      "expected_value: [[ 92.543 114.774  61.006 116.325 101.849  30.503]\n",
      " [ 86.457 107.226  56.994 108.675  95.151  28.497]]\n"
     ]
    }
   ],
   "source": [
    "# let us calculate the chi2 score and pval for 2 categorical variable:\n",
    "\n",
    "stat,p,dof,expected_value = chi2_contingency(observed = obs_val, correction=False)\n",
    "print('chi2_score:',stat)\n",
    "print('P-value:',p)\n",
    "print('degree of freedom:',dof)\n",
    "print('expected_value:',expected_value)\n"
   ]
  },
  {
   "cell_type": "markdown",
   "metadata": {},
   "source": [
    "##### Conclusion:\n",
    "\n",
    "- The above output shows that the chi-square test statistic is less than 11.0705.\n",
    "- and the p-value is greater than 0.05.\n",
    "- thus we fail to reject (i.e. accept) the null hypothesis and conclude that the variables gender and education are independent."
   ]
  },
  {
   "cell_type": "raw",
   "metadata": {},
   "source": [
    "2. A study was conducted to test the effect of the malaria parasite - plasmodium falciparum - on heterozygous and homozygous humans. The vaccine was given to a cohort of 252 humans. Test whether the heterozygous humans are better protected than homozygous. Consider 0.05 as a level of significance.\n",
    "\n",
    "                         Infected      not infected\n",
    "Heterozygous humans        93               51\n",
    "Homozygous   humans        68               40"
   ]
  },
  {
   "cell_type": "markdown",
   "metadata": {},
   "source": [
    "### The null and alternative hypothesis is:\n",
    "\n",
    "- H0: The zygote type and infection with malaria parasite is independent\n",
    "- H1: The zygote type and infection with malaria parasite is not independent"
   ]
  },
  {
   "cell_type": "code",
   "execution_count": 589,
   "metadata": {},
   "outputs": [],
   "source": [
    "# Observed value:\n",
    "\n",
    "obs_val = np.array([[93,51],[68,40]])"
   ]
  },
  {
   "cell_type": "code",
   "execution_count": 590,
   "metadata": {},
   "outputs": [],
   "source": [
    "# alpha is 0.05\n",
    "# dof = 2-1 = 1"
   ]
  },
  {
   "cell_type": "code",
   "execution_count": 591,
   "metadata": {},
   "outputs": [
    {
     "name": "stdout",
     "output_type": "stream",
     "text": [
      "the critical value is: 3.8414588206941285\n"
     ]
    }
   ],
   "source": [
    "# critical value method:\n",
    "\n",
    "chi2_val = stats.chi2.isf(q=0.05,df=1)\n",
    "print('the critical value is:',chi2_val)"
   ]
  },
  {
   "cell_type": "code",
   "execution_count": 593,
   "metadata": {},
   "outputs": [
    {
     "name": "stdout",
     "output_type": "stream",
     "text": [
      "Test statistic: 0.07023411371237459\n",
      "p-value: 0.790996215494177\n",
      "Degrees of freedom: 1\n",
      "Expected values: [[92. 52.]\n",
      " [69. 39.]]\n"
     ]
    }
   ],
   "source": [
    "# chi2_score and p-value\n",
    "\n",
    "stat,p,dof,exp_val = chi2_contingency(observed=obs_val, correction=False)\n",
    "print(\"Test statistic:\",stat)\n",
    "print(\"p-value:\", p)\n",
    "print(\"Degrees of freedom:\", dof)\n",
    "print(\"Expected values:\", exp_val)"
   ]
  },
  {
   "cell_type": "markdown",
   "metadata": {},
   "source": [
    "##### Conclusion:\n",
    "\n",
    "- The above output shows that the chi-square test statistic is less than 3.8415.\n",
    "- and the p-value is greater than 0.05.\n",
    "- Thus we fail to reject (i.e. accept) the null hypothesis and conclude that the zygote type and infection of the malaria parasite are independent."
   ]
  },
  {
   "cell_type": "markdown",
   "metadata": {},
   "source": [
    "# One-way ANOVA (analysis of variances)\n",
    "- It is used to check the **equality of population means for more than two independent samples**.\n",
    "- 𝐻0 : The averages of all treatments are the same.\n",
    "- 𝐻1 : At least one treatment has a different average."
   ]
  },
  {
   "cell_type": "raw",
   "metadata": {},
   "source": [
    "Example:\n",
    "\n",
    "1. Total marks in aptitude exam are recorded for students with different race/ethnicity. Test whether all the races/ethnicities have an equal average score with 0.05 level of significance\n",
    "\n",
    "Use the performance dataset of students available in the CSV file students_data.csv."
   ]
  },
  {
   "cell_type": "code",
   "execution_count": 595,
   "metadata": {},
   "outputs": [
    {
     "data": {
      "text/html": [
       "<div>\n",
       "<style scoped>\n",
       "    .dataframe tbody tr th:only-of-type {\n",
       "        vertical-align: middle;\n",
       "    }\n",
       "\n",
       "    .dataframe tbody tr th {\n",
       "        vertical-align: top;\n",
       "    }\n",
       "\n",
       "    .dataframe thead th {\n",
       "        text-align: right;\n",
       "    }\n",
       "</style>\n",
       "<table border=\"1\" class=\"dataframe\">\n",
       "  <thead>\n",
       "    <tr style=\"text-align: right;\">\n",
       "      <th></th>\n",
       "      <th>gender</th>\n",
       "      <th>ethnicity</th>\n",
       "      <th>education</th>\n",
       "      <th>lunch</th>\n",
       "      <th>test_prep_course</th>\n",
       "      <th>math_score</th>\n",
       "      <th>reading_score</th>\n",
       "      <th>writing_score</th>\n",
       "      <th>total_score</th>\n",
       "      <th>training_institute</th>\n",
       "    </tr>\n",
       "  </thead>\n",
       "  <tbody>\n",
       "    <tr>\n",
       "      <th>0</th>\n",
       "      <td>female</td>\n",
       "      <td>group B</td>\n",
       "      <td>bachelor's degree</td>\n",
       "      <td>standard</td>\n",
       "      <td>none</td>\n",
       "      <td>89</td>\n",
       "      <td>55</td>\n",
       "      <td>56</td>\n",
       "      <td>200</td>\n",
       "      <td>Nature Learning</td>\n",
       "    </tr>\n",
       "    <tr>\n",
       "      <th>1</th>\n",
       "      <td>female</td>\n",
       "      <td>group C</td>\n",
       "      <td>college</td>\n",
       "      <td>standard</td>\n",
       "      <td>completed</td>\n",
       "      <td>55</td>\n",
       "      <td>63</td>\n",
       "      <td>72</td>\n",
       "      <td>190</td>\n",
       "      <td>Nature Learning</td>\n",
       "    </tr>\n",
       "  </tbody>\n",
       "</table>\n",
       "</div>"
      ],
      "text/plain": [
       "   gender ethnicity          education     lunch test_prep_course  math_score  \\\n",
       "0  female   group B  bachelor's degree  standard             none          89   \n",
       "1  female   group C            college  standard        completed          55   \n",
       "\n",
       "   reading_score  writing_score  total_score training_institute  \n",
       "0             55             56          200    Nature Learning  \n",
       "1             63             72          190    Nature Learning  "
      ]
     },
     "execution_count": 595,
     "metadata": {},
     "output_type": "execute_result"
    }
   ],
   "source": [
    "df_s = pd.read_csv('students_data.csv')\n",
    "df_s.head(2)"
   ]
  },
  {
   "cell_type": "markdown",
   "metadata": {},
   "source": [
    "### The Null and Alternative Hypothesis is:\n",
    "\n",
    "- H0: The average score of all races/ethnicities is same\n",
    "- H1: At least one race/ethnicity has a different average score"
   ]
  },
  {
   "cell_type": "code",
   "execution_count": 597,
   "metadata": {},
   "outputs": [
    {
     "data": {
      "text/plain": [
       "array(['group B', 'group C', 'group A', 'group D', 'group E'],\n",
       "      dtype=object)"
      ]
     },
     "execution_count": 597,
     "metadata": {},
     "output_type": "execute_result"
    }
   ],
   "source": [
    "# unique race/ethnicity in the data\n",
    "df_s['ethnicity'].unique() "
   ]
  },
  {
   "cell_type": "code",
   "execution_count": null,
   "metadata": {},
   "outputs": [],
   "source": [
    "# There are total 5 unique race/ethnicity in the dataset."
   ]
  },
  {
   "cell_type": "code",
   "execution_count": 600,
   "metadata": {},
   "outputs": [],
   "source": [
    "# lets separate the data in ethicity variable based on unique groups:\n",
    "\n",
    "nA = df_s[df_s['ethnicity']=='group A']['total_score']\n",
    "nB = df_s[df_s['ethnicity']=='group B']['total_score']\n",
    "nC = df_s[df_s['ethnicity']=='group C']['total_score']\n",
    "nD = df_s[df_s['ethnicity']=='group D']['total_score']\n",
    "nE = df_s[df_s['ethnicity']=='group E']['total_score']"
   ]
  },
  {
   "cell_type": "code",
   "execution_count": 602,
   "metadata": {},
   "outputs": [
    {
     "name": "stdout",
     "output_type": "stream",
     "text": [
      "p-value: 0.7420849204063416\n"
     ]
    }
   ],
   "source": [
    "# Let us check the normality of the total marks of students from all the groups.\n",
    "stat, p_value = stats.shapiro(df_s['total_score'])\n",
    "print('p-value:', p_value)"
   ]
  },
  {
   "cell_type": "markdown",
   "metadata": {},
   "source": [
    "##### From the above result, we can see that the p-value is greater than 0.05, thus we can say that the total marks of students from each group are normally distributed. Thus the assumption of normality is satisfied."
   ]
  },
  {
   "cell_type": "code",
   "execution_count": 605,
   "metadata": {},
   "outputs": [
    {
     "name": "stdout",
     "output_type": "stream",
     "text": [
      "P-Value: 0.12649444001357793\n"
     ]
    }
   ],
   "source": [
    "# Let us check the equality of variances.\n",
    "\n",
    "stat, pval = stats.levene(nA,nB,nC,nD,nE)\n",
    "print('P-Value:', pval)"
   ]
  },
  {
   "cell_type": "markdown",
   "metadata": {},
   "source": [
    "##### From the above result, we can see that the p-value is greater than 0.05, thus we can say that the population variances are equal for all the samples."
   ]
  },
  {
   "cell_type": "code",
   "execution_count": 608,
   "metadata": {},
   "outputs": [
    {
     "name": "stdout",
     "output_type": "stream",
     "text": [
      "t: 5\n",
      "N: 1000\n"
     ]
    }
   ],
   "source": [
    "# obtain the number of unique ethnicity:\n",
    "t =  df_s['ethnicity'].nunique()\n",
    "print('t:',t)\n",
    "\n",
    "# calculate the number of students in the each ethicity:\n",
    "N = df_s['ethnicity'].value_counts().sum()\n",
    "print('N:',N)"
   ]
  },
  {
   "cell_type": "markdown",
   "metadata": {},
   "source": [
    "##### Alpha = 0.05,     dof numerator ( t - 1 ) = 4  ,     dof denominator ( N - t ) = 995"
   ]
  },
  {
   "cell_type": "code",
   "execution_count": 609,
   "metadata": {},
   "outputs": [
    {
     "name": "stdout",
     "output_type": "stream",
     "text": [
      "the critical value for f-test is: 2.3808758069291818\n"
     ]
    }
   ],
   "source": [
    "# calculate the critical value for F-test:\n",
    "\n",
    "f = stats.f.isf(q=0.05, dfn=4, dfd=995)\n",
    "print('the critical value for f-test is:',f)"
   ]
  },
  {
   "cell_type": "code",
   "execution_count": 612,
   "metadata": {},
   "outputs": [
    {
     "name": "stdout",
     "output_type": "stream",
     "text": [
      "f-score: 0.789109595922189\n",
      "p-value: 0.5322937031083035\n"
     ]
    }
   ],
   "source": [
    "# Perform one way Anova:\n",
    "\n",
    "f_test, pval = stats.f_oneway(nA,nB,nC,nD,nE)\n",
    "print('f-score:', f_test)\n",
    "print('p-value:', pval)     "
   ]
  },
  {
   "cell_type": "markdown",
   "metadata": {},
   "source": [
    "##### Conclusion:\n",
    "\n",
    "- The above output shows that the test statistic is less than 2.3809.\n",
    "- and the p-value is greater than 0.05.\n",
    "- Thus we fail to reject (i.e. accept) the null hypothesis and conclude that the average score of all races/ethnicities is the same."
   ]
  },
  {
   "cell_type": "raw",
   "metadata": {},
   "source": [
    "2. Ryan is a production manager at an industry manufacturing alloy seals. They have 4 machines - A, B, C and D. Ryan wants to study whether all the machines have equal efficiency. Ryan collects data of tensile strength from all the 4 machines as given. Test at 5% level of significance.¶"
   ]
  },
  {
   "cell_type": "code",
   "execution_count": 613,
   "metadata": {},
   "outputs": [],
   "source": [
    "A = [68.7, 75.4, 70.9, 79.1, 78.2]\n",
    "B = [62.7, 68.5, 63.1, 62.2, 60.3]\n",
    "C = [55.9, 56.1, 57.3, 59.2, 50.1]\n",
    "D = [80.7, 70.3, 80.9, 85.4, 82.3]"
   ]
  },
  {
   "cell_type": "markdown",
   "metadata": {},
   "source": [
    "### The null and alternative hypothesis is:\n",
    "\n",
    "- H0: The average tensile strength due to all the machines is the same\n",
    "- H1: The average tensile strength due to at least one machines is different"
   ]
  },
  {
   "cell_type": "code",
   "execution_count": 614,
   "metadata": {},
   "outputs": [],
   "source": [
    "# let us put all the values in the list strength to perform shapiro test:\n",
    "\n",
    "strength = [68.7, 75.4, 70.9, 79.1, 78.2,62.7, 68.5, 63.1, 62.2, 60.3,55.9, 56.1, 57.3, 59.2, 50.1,80.7, 70.3, 80.9, 85.4, 82.3]"
   ]
  },
  {
   "cell_type": "code",
   "execution_count": 616,
   "metadata": {},
   "outputs": [
    {
     "name": "stdout",
     "output_type": "stream",
     "text": [
      "p-value: 0.3721875548362732\n"
     ]
    }
   ],
   "source": [
    "# perform Shapiro-Wilk test to test the normality\n",
    "\n",
    "stat, pval = shapiro(strength)\n",
    "print('p-value:', pval)"
   ]
  },
  {
   "cell_type": "markdown",
   "metadata": {},
   "source": [
    "##### From the above result, we can see that the p-value is greater than 0.05, thus we can say that the tensile strengths due to all the machines are normally distributed. Thus the assumption of normality is satisfied."
   ]
  },
  {
   "cell_type": "code",
   "execution_count": 617,
   "metadata": {},
   "outputs": [
    {
     "name": "stdout",
     "output_type": "stream",
     "text": [
      "P-value: 0.7570021212992085\n"
     ]
    }
   ],
   "source": [
    "# let us perform Levene's test for the equality of variances \n",
    "\n",
    "stat, pval = stats.levene(A,B,C,D)\n",
    "print('P-value:',pval)"
   ]
  },
  {
   "cell_type": "markdown",
   "metadata": {},
   "source": [
    "##### From the above result, we can see that the p-value is greater than 0.05, thus we can say that the population variances are equal for all the samples."
   ]
  },
  {
   "cell_type": "markdown",
   "metadata": {},
   "source": [
    "- Here t (=number of machines) = 4, N (=total observations) = 20\n",
    "\n",
    "-  For ⍺ = 0.05 and degrees of freedom = (t-1, N-t) = (3, 16), calculate the critical value."
   ]
  },
  {
   "cell_type": "code",
   "execution_count": 620,
   "metadata": {},
   "outputs": [
    {
     "name": "stdout",
     "output_type": "stream",
     "text": [
      "the critical value for f-test is: 3.238871517453585\n"
     ]
    }
   ],
   "source": [
    "# let us find critical value for f-test\n",
    "\n",
    "f_value = stats.f.isf(q=0.05, dfn=3, dfd=16)\n",
    "print('the critical value for f-test is:',f_value)"
   ]
  },
  {
   "cell_type": "code",
   "execution_count": 621,
   "metadata": {},
   "outputs": [
    {
     "name": "stdout",
     "output_type": "stream",
     "text": [
      "F-score: 32.03072350199285\n",
      "P-value: 5.375613532781072e-07\n"
     ]
    }
   ],
   "source": [
    "# let us find f-score and p_value:\n",
    "# perform one way anova\n",
    "\n",
    "f_score, pval = stats.f_oneway(A,B,C,D)\n",
    "print('F-score:',f_score)\n",
    "print('P-value:',pval)"
   ]
  },
  {
   "cell_type": "markdown",
   "metadata": {},
   "source": [
    "##### Conclusion:\n",
    "\n",
    "- The above output shows that the test statistic is greater than 3.2389.\n",
    "- and the p-value is less than 0.05.\n",
    "- Thus we reject the null hypothesis and conclude that the average tensile strength due to at least one machine is different."
   ]
  },
  {
   "cell_type": "markdown",
   "metadata": {},
   "source": [
    "# Post-hoc Analysis:\n",
    "- **If one-way ANOVA rejects the null hypothesis**; we conclude that at least one treatment has a different mean. \n",
    "- **The test does not distinguish a treatment with the different average value**. The post-hoc test or multi comparison test is used to identify such treatment(s)."
   ]
  },
  {
   "cell_type": "raw",
   "metadata": {},
   "source": [
    "Example:\n",
    "\n",
    "1. Ryan is a production manager at an industry manufacturing alloy seals. They have 4 machines - A, B, C and D. Ryan wants to study whether all the machines have equal efficiency. Ryan collects data of tensile strength from all the 4 machines as given. Perform the post-hoc test to find out which machine has a different average. Test at 5% level of significance."
   ]
  },
  {
   "cell_type": "code",
   "execution_count": 647,
   "metadata": {},
   "outputs": [
    {
     "data": {
      "text/html": [
       "<div>\n",
       "<style scoped>\n",
       "    .dataframe tbody tr th:only-of-type {\n",
       "        vertical-align: middle;\n",
       "    }\n",
       "\n",
       "    .dataframe tbody tr th {\n",
       "        vertical-align: top;\n",
       "    }\n",
       "\n",
       "    .dataframe thead th {\n",
       "        text-align: right;\n",
       "    }\n",
       "</style>\n",
       "<table border=\"1\" class=\"dataframe\">\n",
       "  <thead>\n",
       "    <tr style=\"text-align: right;\">\n",
       "      <th></th>\n",
       "      <th>machine</th>\n",
       "      <th>strength</th>\n",
       "    </tr>\n",
       "  </thead>\n",
       "  <tbody>\n",
       "    <tr>\n",
       "      <th>0</th>\n",
       "      <td>machine_A</td>\n",
       "      <td>68.7</td>\n",
       "    </tr>\n",
       "    <tr>\n",
       "      <th>1</th>\n",
       "      <td>machine_B</td>\n",
       "      <td>62.7</td>\n",
       "    </tr>\n",
       "    <tr>\n",
       "      <th>2</th>\n",
       "      <td>machine_C</td>\n",
       "      <td>55.9</td>\n",
       "    </tr>\n",
       "    <tr>\n",
       "      <th>3</th>\n",
       "      <td>machine_D</td>\n",
       "      <td>80.7</td>\n",
       "    </tr>\n",
       "    <tr>\n",
       "      <th>4</th>\n",
       "      <td>machine_A</td>\n",
       "      <td>75.4</td>\n",
       "    </tr>\n",
       "  </tbody>\n",
       "</table>\n",
       "</div>"
      ],
      "text/plain": [
       "     machine  strength\n",
       "0  machine_A      68.7\n",
       "1  machine_B      62.7\n",
       "2  machine_C      55.9\n",
       "3  machine_D      80.7\n",
       "4  machine_A      75.4"
      ]
     },
     "execution_count": 647,
     "metadata": {},
     "output_type": "execute_result"
    }
   ],
   "source": [
    "# lets create a dataframe using given data:\n",
    "\n",
    "df = pd.DataFrame(data = {'machine': ['machine_A','machine_B','machine_C','machine_D']*5, \n",
    "                                  'strength': [68.7, 62.7, 55.9, 80.7, 75.4, 68.5, 56.1, 70.3, 70.9, 63.1, 57.3, 80.9, 79.1, \n",
    "                                               62.2, 59.2, 85.4, 78.2, 60.3, 50.1, 82.3]})\n",
    "df.head()"
   ]
  },
  {
   "cell_type": "code",
   "execution_count": 652,
   "metadata": {},
   "outputs": [
    {
     "name": "stdout",
     "output_type": "stream",
     "text": [
      "Requirement already satisfied: scikit_posthocs in c:\\users\\vikas\\anaconda3\\lib\\site-packages (0.6.7)\n",
      "Requirement already satisfied: statsmodels in c:\\users\\vikas\\anaconda3\\lib\\site-packages (from scikit_posthocs) (0.12.0)\n",
      "Requirement already satisfied: numpy in c:\\users\\vikas\\anaconda3\\lib\\site-packages (from scikit_posthocs) (1.19.2)\n",
      "Requirement already satisfied: seaborn in c:\\users\\vikas\\anaconda3\\lib\\site-packages (from scikit_posthocs) (0.11.0)\n",
      "Requirement already satisfied: pandas>=0.20.0 in c:\\users\\vikas\\anaconda3\\lib\\site-packages (from scikit_posthocs) (1.1.3)\n",
      "Requirement already satisfied: scipy in c:\\users\\vikas\\anaconda3\\lib\\site-packages (from scikit_posthocs) (1.5.2)\n",
      "Requirement already satisfied: matplotlib in c:\\users\\vikas\\anaconda3\\lib\\site-packages (from scikit_posthocs) (3.3.2)\n",
      "Requirement already satisfied: patsy>=0.5 in c:\\users\\vikas\\anaconda3\\lib\\site-packages (from statsmodels->scikit_posthocs) (0.5.1)\n",
      "Requirement already satisfied: python-dateutil>=2.7.3 in c:\\users\\vikas\\anaconda3\\lib\\site-packages (from pandas>=0.20.0->scikit_posthocs) (2.8.1)\n",
      "Requirement already satisfied: pytz>=2017.2 in c:\\users\\vikas\\anaconda3\\lib\\site-packages (from pandas>=0.20.0->scikit_posthocs) (2020.1)\n",
      "Requirement already satisfied: pyparsing!=2.0.4,!=2.1.2,!=2.1.6,>=2.0.3 in c:\\users\\vikas\\anaconda3\\lib\\site-packages (from matplotlib->scikit_posthocs) (2.4.7)\n",
      "Requirement already satisfied: certifi>=2020.06.20 in c:\\users\\vikas\\anaconda3\\lib\\site-packages (from matplotlib->scikit_posthocs) (2020.6.20)\n",
      "Requirement already satisfied: cycler>=0.10 in c:\\users\\vikas\\anaconda3\\lib\\site-packages (from matplotlib->scikit_posthocs) (0.10.0)\n",
      "Requirement already satisfied: kiwisolver>=1.0.1 in c:\\users\\vikas\\anaconda3\\lib\\site-packages (from matplotlib->scikit_posthocs) (1.3.0)\n",
      "Requirement already satisfied: pillow>=6.2.0 in c:\\users\\vikas\\anaconda3\\lib\\site-packages (from matplotlib->scikit_posthocs) (8.0.1)\n",
      "Requirement already satisfied: six in c:\\users\\vikas\\anaconda3\\lib\\site-packages (from patsy>=0.5->statsmodels->scikit_posthocs) (1.15.0)\n"
     ]
    },
    {
     "data": {
      "text/html": [
       "<table class=\"simpletable\">\n",
       "<caption>Multiple Comparison of Means - Tukey HSD, FWER=0.05</caption>\n",
       "<tr>\n",
       "   <th>group1</th>    <th>group2</th>   <th>meandiff</th>  <th>p-adj</th>   <th>lower</th>    <th>upper</th>  <th>reject</th>\n",
       "</tr>\n",
       "<tr>\n",
       "  <td>machine_A</td> <td>machine_B</td>   <td>-11.1</td>  <td>0.0044</td> <td>-18.8842</td>  <td>-3.3158</td>  <td>True</td> \n",
       "</tr>\n",
       "<tr>\n",
       "  <td>machine_A</td> <td>machine_C</td>  <td>-18.74</td>   <td>0.001</td> <td>-26.5242</td> <td>-10.9558</td>  <td>True</td> \n",
       "</tr>\n",
       "<tr>\n",
       "  <td>machine_A</td> <td>machine_D</td>   <td>5.46</td>   <td>0.2265</td>  <td>-2.3242</td>  <td>13.2442</td>  <td>False</td>\n",
       "</tr>\n",
       "<tr>\n",
       "  <td>machine_B</td> <td>machine_C</td>   <td>-7.64</td>  <td>0.0553</td> <td>-15.4242</td>  <td>0.1442</td>   <td>False</td>\n",
       "</tr>\n",
       "<tr>\n",
       "  <td>machine_B</td> <td>machine_D</td>   <td>16.56</td>   <td>0.001</td>  <td>8.7758</td>   <td>24.3442</td>  <td>True</td> \n",
       "</tr>\n",
       "<tr>\n",
       "  <td>machine_C</td> <td>machine_D</td>   <td>24.2</td>    <td>0.001</td>  <td>16.4158</td>  <td>31.9842</td>  <td>True</td> \n",
       "</tr>\n",
       "</table>"
      ],
      "text/plain": [
       "<class 'statsmodels.iolib.table.SimpleTable'>"
      ]
     },
     "execution_count": 652,
     "metadata": {},
     "output_type": "execute_result"
    }
   ],
   "source": [
    "# perform tukey's range test to compare the mean efficiency for pair of machines\n",
    "# pass the tensile strength to the parameter, 'data'\n",
    "# pass the name of the machine to the parameter, 'groups'\n",
    "\n",
    "!pip install scikit_posthocs\n",
    "import scikit_posthocs\n",
    "\n",
    "import statsmodels.stats.multicomp as mc\n",
    "comp = mc.MultiComparison(data = df['strength'], groups=df['machine'])\n",
    "\n",
    "# tuskey's range test:\n",
    "post_hoc = comp.tukeyhsd()\n",
    "\n",
    "# print the summary table\n",
    "post_hoc.summary()"
   ]
  },
  {
   "cell_type": "markdown",
   "metadata": {},
   "source": [
    "##### Conclusion:\n",
    "\n",
    "- The reject=False for pairs (machine_A, machine_D) and (machine_B, machine_C) denotes that **we fail to reject the null hypothesis**.\n",
    "- and conclude that the **average tensile strength due to machine_A and machine_D, machine_B and machine_C is same**.\n",
    "- For the pairs (machine_A, machine_B), (machine_A, machine_C), (machine_B, machine_D), and (machine_C, machine_D) the **average tensile strength is not the same**.\n",
    "- The values in the **columns lower and upper represent the lower and upper bound of the 95% confidence interval for the mean difference**.\n"
   ]
  }
 ],
 "metadata": {
  "kernelspec": {
   "display_name": "Python 3",
   "language": "python",
   "name": "python3"
  },
  "language_info": {
   "codemirror_mode": {
    "name": "ipython",
    "version": 3
   },
   "file_extension": ".py",
   "mimetype": "text/x-python",
   "name": "python",
   "nbconvert_exporter": "python",
   "pygments_lexer": "ipython3",
   "version": "3.8.5"
  }
 },
 "nbformat": 4,
 "nbformat_minor": 4
}
