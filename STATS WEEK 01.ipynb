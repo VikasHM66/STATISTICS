{
 "cells": [
  {
   "cell_type": "code",
   "execution_count": 7,
   "metadata": {},
   "outputs": [],
   "source": [
    "import numpy as np\n",
    "import pandas as pd\n",
    "import matplotlib.pyplot as plt\n",
    "import seaborn as sns\n",
    "import warnings\n",
    "warnings.filterwarnings(action='ignore')\n",
    "\n",
    "from matplotlib import gridspec\n",
    "%matplotlib inline\n",
    "\n",
    "\n",
    "from math import factorial\n",
    "\n",
    "from scipy import stats\n",
    "from scipy.stats import randint                 # randint is used to generate random variables following a uniform distribution.\n",
    "from scipy.stats import skewnorm                # variables having a skewed normal distribution.\n",
    "\n",
    "import random"
   ]
  },
  {
   "cell_type": "code",
   "execution_count": 155,
   "metadata": {},
   "outputs": [],
   "source": [
    "plt.rcParams['figure.figsize'] = [15,8]         # setting up the figure sizes"
   ]
  },
  {
   "cell_type": "code",
   "execution_count": null,
   "metadata": {},
   "outputs": [],
   "source": [
    "\n",
    "\n",
    "\n",
    "\n",
    "\n",
    "\n",
    "\n",
    "\n"
   ]
  },
  {
   "cell_type": "markdown",
   "metadata": {},
   "source": [
    "# DAY 1 "
   ]
  },
  {
   "cell_type": "markdown",
   "metadata": {},
   "source": [
    " \n",
    "## The study of statistics is mainly divided into 2 parts:\n",
    "    \n",
    "####    1. Descriptive stats.\n",
    "####    2. Inferential Stats.\n",
    "    "
   ]
  },
  {
   "cell_type": "markdown",
   "metadata": {},
   "source": [
    "\n",
    "# Descriptive Stats:\n",
    "    \n",
    "#### 1. Measure of Central tendency:\n",
    "        \n",
    "       -- Mean.\n",
    "       -- Median.\n",
    "       -- Mode.\n",
    "        \n",
    "####    2. Measure of Dispersion:\n",
    "        \n",
    "       -- Range.\n",
    "       -- Variance.\n",
    "       -- Standard Deviation.\n",
    "       -- Coeffiecent of Variation.\n",
    "       -- Interquartile Range(IQR)\n",
    "        \n",
    "####    3. Skewness  &  Kurtosis.\n",
    "            \n",
    "####   4. Covariance  &  Correlation.\n",
    "    \n",
    "    "
   ]
  },
  {
   "cell_type": "code",
   "execution_count": null,
   "metadata": {},
   "outputs": [],
   "source": []
  },
  {
   "cell_type": "code",
   "execution_count": null,
   "metadata": {},
   "outputs": [],
   "source": []
  },
  {
   "cell_type": "markdown",
   "metadata": {},
   "source": [
    "# Inferential Stats:"
   ]
  },
  {
   "cell_type": "markdown",
   "metadata": {},
   "source": [
    "#  Probability Distributions."
   ]
  },
  {
   "cell_type": "markdown",
   "metadata": {},
   "source": [
    "### ----------- Discrete Probability Distributions -----------\n",
    "  #### 1. Discrete Uniform Distribution"
   ]
  },
  {
   "cell_type": "raw",
   "metadata": {},
   "source": [
    "Example:\n",
    "\n",
    "1. A factory has 6 machines numbered from 1 to 6. Let r.v. X be the machine number. What is the probability that a machine chosen at random is either 3 or 4?"
   ]
  },
  {
   "cell_type": "code",
   "execution_count": 158,
   "metadata": {},
   "outputs": [
    {
     "name": "stdout",
     "output_type": "stream",
     "text": [
      "The probabilty that a machine chosen at random is either 3 or 4 is:  0.3333\n"
     ]
    }
   ],
   "source": [
    "# To find P(x=3 or x=4)\n",
    "# Use random.pmf \n",
    "# low is minimum of x  \n",
    "# high is maximum of x\n",
    "\n",
    "prob = randint.pmf(k=3, low=1, high=7) + randint.pmf(k=4, low=1, high=7)\n",
    "print('The probabilty that a machine chosen at random is either 3 or 4 is: ',round(prob,4))\n"
   ]
  },
  {
   "cell_type": "markdown",
   "metadata": {},
   "source": [
    "#### 2. Discrete Bernoulli Distribution."
   ]
  },
  {
   "cell_type": "raw",
   "metadata": {},
   "source": [
    "Example:\n",
    "\n",
    "1. If 7 out of 10 times a soccer player scores a goal for a direct free kick. What would be the probability that he scores a goal for the next free kick?"
   ]
  },
  {
   "cell_type": "code",
   "execution_count": 159,
   "metadata": {},
   "outputs": [
    {
     "name": "stdout",
     "output_type": "stream",
     "text": [
      "The probability that player scores a goal for the next free kick is: 0.7\n"
     ]
    }
   ],
   "source": [
    "# Bernoulli distribution has only two possible outcomes:\n",
    "# From the above question theres either goal or not a goal,So bernoulli    \n",
    "# use stats.bernoulli.pmf( k=(), p=())\n",
    "\n",
    "# To find P(X=1)\n",
    "# p = 0.7 given.\n",
    "\n",
    "p = 0.7\n",
    "prob = stats.bernoulli.pmf(k=1,p=0.7)\n",
    "print('The probability that player scores a goal for the next free kick is:',round(prob,4))"
   ]
  },
  {
   "cell_type": "markdown",
   "metadata": {},
   "source": [
    "#### 3. Discrete Binomial Distribution."
   ]
  },
  {
   "cell_type": "raw",
   "metadata": {},
   "source": [
    "Example:\n",
    "\n",
    "1. Heaven Furnitures (HF) sells furniture like sofas, beds and tables. It is observed that 25% of their customers complain about the furniture purchased by them for many reasons. On Tuesday, 20 customers purchased furniture products from HF."
   ]
  },
  {
   "cell_type": "raw",
   "metadata": {},
   "source": [
    "a. Calculate the probability that exactly 3 customers will complain about the purchased products"
   ]
  },
  {
   "cell_type": "code",
   "execution_count": 160,
   "metadata": {},
   "outputs": [
    {
     "name": "stdout",
     "output_type": "stream",
     "text": [
      "The probability that exactly 3 customers will complain about the purchased products is:  0.1339\n"
     ]
    }
   ],
   "source": [
    "# Binomial distribution is generated when we repeat a bernoulli experiment n number of times.\n",
    "\n",
    "# The question has a possibility either a customer complains or not which is two possible outcomes(bernoulli) repeated n times \n",
    "# Hence Binomial distribution.\n",
    "# use stats.binom.pmf(k=(), n=(), p=())\n",
    "# n=20 number of customers\n",
    "# p=0.25, 25% probabilty\n",
    "# P(X=3)\n",
    "\n",
    "prob = stats.binom.pmf(k=3, n=20, p=0.25)\n",
    "print('The probability that exactly 3 customers will complain about the purchased products is: ',round(prob,4))\n"
   ]
  },
  {
   "cell_type": "raw",
   "metadata": {},
   "source": [
    "b. Calculate the probability that more than 3 customers will complain about the furniture purchased by them."
   ]
  },
  {
   "cell_type": "code",
   "execution_count": 162,
   "metadata": {},
   "outputs": [
    {
     "name": "stdout",
     "output_type": "stream",
     "text": [
      "The probability that more than 3 customers will complain about the purchased products is:  0.7748\n"
     ]
    }
   ],
   "source": [
    "# When probability more than like that,\n",
    "# use sf() - survival function.\n",
    "# stats.binom.sf()\n",
    "\n",
    "prob = stats.binom.sf(k=3, n=20, p=0.25)\n",
    "print('The probability that more than 3 customers will complain about the purchased products is: ',round(prob,4))"
   ]
  },
  {
   "cell_type": "raw",
   "metadata": {},
   "source": [
    "2. In a shooting academy, data was collected on the precision shooting of a student. From 15 shots fired 11 were on target. Consider the same student, what is the probability that out of 50 shots fired, exactly 35 will hit the target?"
   ]
  },
  {
   "cell_type": "code",
   "execution_count": 165,
   "metadata": {},
   "outputs": [
    {
     "name": "stdout",
     "output_type": "stream",
     "text": [
      "The probability that out of 50 shots fired, exactly 35 will hit the target is:  0.1065\n"
     ]
    }
   ],
   "source": [
    "# its binomal distribution.\n",
    "# use stats.binom.pmf()\n",
    "\n",
    "prob = stats.binom.pmf(k=35, n=50, p=11/15)\n",
    "print('The probability that out of 50 shots fired, exactly 35 will hit the target is: ',round(prob,4))"
   ]
  },
  {
   "cell_type": "markdown",
   "metadata": {},
   "source": [
    "#### 4. Discrete Poisson Distribution."
   ]
  },
  {
   "cell_type": "raw",
   "metadata": {},
   "source": [
    "Example:\n",
    "    \n",
    "1. The number of pizzas sold per day by a food zone \"Fapinos\" follows a poisson distribution at a rate of 67 pizzas per day. Calculate the probability that the number of pizza sales exceeds 70 in a day"
   ]
  },
  {
   "cell_type": "code",
   "execution_count": 166,
   "metadata": {},
   "outputs": [
    {
     "name": "stdout",
     "output_type": "stream",
     "text": [
      "The probability that the number of pizza exceeds 70 in a day is: 0.3285\n"
     ]
    }
   ],
   "source": [
    "# use 'poisson.sf()' to calculate the value of survival function (1 - cdf). i.e. P(X > x)\n",
    "# calculate the probability that more than 70 pizzas will be sold \n",
    "# pass the required value of pizzas to the parameter, 'k' \n",
    "# pass the average number of pizzas to the parameter, 'mu'\n",
    "\n",
    "prob = stats.poisson.sf(k = 70, mu = 67)\n",
    "print('The probability that the number of pizza exceeds 70 in a day is:',round(prob,4))"
   ]
  },
  {
   "cell_type": "markdown",
   "metadata": {},
   "source": [
    "### ---------- Continous Probability Distributions ----------"
   ]
  },
  {
   "cell_type": "markdown",
   "metadata": {},
   "source": [
    "#### 1. Continous Uniform distribution."
   ]
  },
  {
   "cell_type": "raw",
   "metadata": {},
   "source": [
    "Example:\n",
    "\n",
    "1. A gas supplying company has a pipe of 200 km from its supplying center to the city. What is the probability that the pipe leaks in the middle 100 kms? (Assume that the chance of pipe leakage is equal on the entire route)"
   ]
  },
  {
   "cell_type": "code",
   "execution_count": 168,
   "metadata": {},
   "outputs": [
    {
     "name": "stdout",
     "output_type": "stream",
     "text": [
      "The probability that the pipe leaks on the middle 100 kms is: 0.5\n"
     ]
    }
   ],
   "source": [
    "# The distance b/w gas supplying center and the city 200 kms.\n",
    "# to find: P(50<=X<=150), where pipe leaks in the middle of 100 kms.\n",
    "# its continous uniform distribution over the interval (0,200)\n",
    "\n",
    "# first will find the cdf of both 150 and 50.\n",
    "# loc is the start point of the interval of the parameter.\n",
    "# scale is the difference b/w the end and start point of interval of the parameter.\n",
    "prob_150 = stats.uniform.cdf(x=150, loc=0, scale=200)\n",
    "prob_50 = stats.uniform.cdf(x=50, loc=0, scale=200)\n",
    "\n",
    "# now by the difference of the above we get the required probability:\n",
    "req_prob = prob_150 - prob_50\n",
    "print('The probability that the pipe leaks on the middle 100 kms is:',round(req_prob,4))\n"
   ]
  },
  {
   "cell_type": "markdown",
   "metadata": {},
   "source": [
    "#### 2. Continous Normal Distribution."
   ]
  },
  {
   "cell_type": "raw",
   "metadata": {},
   "source": [
    "Example:\n",
    "\n",
    "1. A survey was conducted and it was found that the people spend their 300 minutes in a day surfing on online shopping sites on average and the corresponding standard deviation is 127 minutes. Assume that the time spent on surfing follows a normal distribution. Calculate the following probabilities:"
   ]
  },
  {
   "cell_type": "raw",
   "metadata": {},
   "source": [
    "a. What is the probability that the users are spending less than or equal to 100 minutes per day?"
   ]
  },
  {
   "cell_type": "code",
   "execution_count": 171,
   "metadata": {},
   "outputs": [
    {
     "name": "stdout",
     "output_type": "stream",
     "text": [
      "The probability that the users are spending less than or equal to 100 minutes per day is: 0.06\n"
     ]
    }
   ],
   "source": [
    "# to find P(X<100)\n",
    "\n",
    "# average and std of the data.\n",
    "avg = 300\n",
    "std = 127\n",
    "\n",
    "# standardize the variable with x=100,  (z=(x-avg)/std)\n",
    "X = 100\n",
    "z = (X-avg)/std\n",
    "\n",
    "prob = stats.norm.cdf(z)\n",
    "print('The probability that the users are spending less than or equal to 100 minutes per day is:',round(prob,2))\n"
   ]
  },
  {
   "cell_type": "raw",
   "metadata": {},
   "source": [
    "b. What is the probability that people are spending more than 400 minutes on online shopping sites per day?"
   ]
  },
  {
   "cell_type": "code",
   "execution_count": 174,
   "metadata": {},
   "outputs": [
    {
     "name": "stdout",
     "output_type": "stream",
     "text": [
      "The probability that people are spending more than 400 minutes per day is: 0.2155\n"
     ]
    }
   ],
   "source": [
    "# to find P(X>400) , greater so, use sf()\n",
    "\n",
    "# average and std of the data.\n",
    "avg = 300\n",
    "std = 127\n",
    "\n",
    "# standardize the variable with x=400,  (z=(x-avg)/std)\n",
    "X = 400\n",
    "z = (X-avg)/std\n",
    "\n",
    "prob = stats.norm.sf(z)\n",
    "print('The probability that people are spending more than 400 minutes per day is:',round(prob,4))\n"
   ]
  },
  {
   "cell_type": "raw",
   "metadata": {},
   "source": [
    "c. What is the probability that people are spending time between 250 minutes and 350 minutes per day?"
   ]
  },
  {
   "cell_type": "code",
   "execution_count": 177,
   "metadata": {},
   "outputs": [
    {
     "name": "stdout",
     "output_type": "stream",
     "text": [
      "The reqiured probability is: 0.31\n"
     ]
    }
   ],
   "source": [
    "# To find P(X) b/w 250 and 350\n",
    "\n",
    "# average and std of the data.\n",
    "avg = 300\n",
    "std = 127\n",
    "\n",
    "# Standardize the variable with x1=250 and x2=350\n",
    "x1=250\n",
    "x2=350\n",
    "z1 = (x1-avg)/std\n",
    "z2 = (x2-avg)/std\n",
    "\n",
    "p1 = stats.norm.cdf(z1)\n",
    "p2 = stats.norm.cdf(z2)\n",
    "\n",
    "prob = p2 - p1\n",
    "print('The reqiured probability is:', round(prob,2))"
   ]
  },
  {
   "cell_type": "raw",
   "metadata": {},
   "source": [
    "2. A monthly balance in the bank account of a credit card holders is assumed to be normally distributed with mean 500 dollars and variance 100 dollars. What is the probability that the balance can be more than 513.5 dollars?"
   ]
  },
  {
   "cell_type": "code",
   "execution_count": 178,
   "metadata": {},
   "outputs": [
    {
     "name": "stdout",
     "output_type": "stream",
     "text": [
      "The required probability is: 0.0885\n"
     ]
    }
   ],
   "source": [
    "# To find P(X>513.5), greater use sf()\n",
    "\n",
    "# average and std of the data.\n",
    "avg = 500\n",
    "# std not given directly variance is given So,\n",
    "var = 100\n",
    "std = np.sqrt(var)\n",
    "\n",
    "# standardize the variable with x=513.5\n",
    "X = 513.5\n",
    "z = (X-avg)/std\n",
    "\n",
    "prob = stats.norm.sf(z)\n",
    "print(\"The required probability is:\", round(prob,4))\n"
   ]
  },
  {
   "cell_type": "markdown",
   "metadata": {},
   "source": [
    "# Sampling"
   ]
  },
  {
   "cell_type": "markdown",
   "metadata": {},
   "source": [
    "#### Types of Sampling:\n",
    "     \n",
    "     - Simple random Sample.\n",
    "     - Stratified.\n",
    "     - Systematic.\n",
    "     - Cluster."
   ]
  },
  {
   "cell_type": "markdown",
   "metadata": {},
   "source": [
    "#### 1. Simple Random Sample."
   ]
  },
  {
   "cell_type": "raw",
   "metadata": {},
   "source": [
    "Example:\n",
    "\n",
    "1. Consider 8 identical boxes that contain different number of shuttlecocks. Draw a sample of 20 boxes with replacement.\n",
    "data = [18, 13, 16, 17, 15, 21, 19, 12]"
   ]
  },
  {
   "cell_type": "code",
   "execution_count": 183,
   "metadata": {},
   "outputs": [
    {
     "name": "stdout",
     "output_type": "stream",
     "text": [
      "population: [18, 13, 16, 17, 15, 21, 19, 12]\n",
      "Sample: [13, 15, 21, 21, 15, 19, 17, 19, 12, 17, 19, 21, 12, 18, 12, 19, 12, 12, 16, 21]\n"
     ]
    }
   ],
   "source": [
    "# Given population \n",
    "data = [18, 13, 16, 17, 15, 21, 19, 12]\n",
    "print('population:',data)\n",
    "\n",
    "# get sample with replacement.\n",
    "# use random.choices\n",
    "\n",
    "sample = random.choices(population=data, k=20)\n",
    "print('Sample:',sample)"
   ]
  },
  {
   "cell_type": "raw",
   "metadata": {},
   "source": [
    "Example:\n",
    "\n",
    "2. An ice-cream manufacturer wants to study the sales of ice-creams to decide the production policies of the company. He collects the data for the number of ice-creams sold in a month from the 30 franchise. Randomly select the sales of 10 franchise for the study.\n",
    "data = [21, 93, 62, 76, 73, 20, 56, 95, 41, 36, 38, 13, 80, 88, 34, 18, 40, 11, 25, 29, 61, 23, 82, 10, 92, 69, 60, 87, 14, 91]"
   ]
  },
  {
   "cell_type": "code",
   "execution_count": 185,
   "metadata": {},
   "outputs": [
    {
     "name": "stdout",
     "output_type": "stream",
     "text": [
      "population: [21, 93, 62, 76, 73, 20, 56, 95, 41, 36, 38, 13, 80, 88, 34, 18, 40, 11, 25, 29, 61, 23, 82, 10, 92, 69, 60, 87, 14, 91]\n",
      "Sample: [56, 88, 91, 76, 23, 36, 34, 82, 40, 14]\n"
     ]
    }
   ],
   "source": [
    "# Given population:\n",
    "data = [21, 93, 62, 76, 73, 20, 56, 95, 41, 36, 38, 13, 80, 88, 34, 18, 40, 11, 25, 29, 61, 23, 82, 10, 92, 69, 60, 87, 14, 91]\n",
    "print('population:',data)\n",
    "# get sample without replacement.\n",
    "# use random.sample\n",
    "\n",
    "sample = random.sample(population=data, k=10)\n",
    "print('Sample:',sample)"
   ]
  },
  {
   "cell_type": "markdown",
   "metadata": {},
   "source": [
    "# CENTRAL LIMIT THEOREM :"
   ]
  },
  {
   "cell_type": "markdown",
   "metadata": {},
   "source": [
    "- let x1,x2,x3,....xn be the random sample drawn from a population.\n",
    "\n",
    "- with mean 𝜇 and std 𝜎 .\n",
    "\n",
    "- The central limit theorem states that, for sufficiently large n, the sample mean 𝑋 follows an approximately normal distribution with mean 𝜇 and std $\\frac{\\sigma}{\\sqrt{n}}$.\n",
    "\n",
    "- i.e. $\\frac{\\overline{X} - \\mu}{\\frac{\\sigma}{\\sqrt{n}}}$ follows a standard normal distribution.\n",
    "\n",
    "- For a normally distributed population, the above result holds for any sample size.\n",
    "\n",
    "- For the population with distribution other than normal, generally, the sample size greater than or equal to 30 is considered as the large sample size."
   ]
  },
  {
   "cell_type": "markdown",
   "metadata": {},
   "source": [
    "#### let us plot some graphs to demonstrate the CLT for positive, negative and normal positive distribution."
   ]
  },
  {
   "cell_type": "code",
   "execution_count": null,
   "metadata": {},
   "outputs": [],
   "source": []
  },
  {
   "cell_type": "code",
   "execution_count": null,
   "metadata": {},
   "outputs": [],
   "source": [
    "\n",
    "\n",
    "\n",
    "\n",
    "\n",
    "\n",
    "\n",
    "\n",
    "\n",
    "\n"
   ]
  },
  {
   "cell_type": "markdown",
   "metadata": {},
   "source": [
    "# DAY 2"
   ]
  },
  {
   "cell_type": "code",
   "execution_count": 187,
   "metadata": {},
   "outputs": [],
   "source": [
    "import numpy as np\n",
    "import pandas as pd\n",
    "import seaborn as sns\n",
    "import matplotlib.pyplot as plt\n",
    "import warnings\n",
    "warnings.filterwarnings(action='ignore')\n",
    "\n",
    "from matplotlib import gridspec\n",
    "\n",
    "from math import factorial\n",
    "\n",
    "from scipy import stats\n",
    "from scipy.stats import randint\n",
    "from scipy.stats import skewnorm\n",
    "\n",
    "import random\n",
    "\n",
    "import statistics\n",
    "\n",
    "from statsmodels.stats import weightstats as stests    # to perform z-test\n",
    "\n",
    "from scipy.stats import shapiro                        # to test normality\n",
    "\n",
    "from statsmodels.stats import power                    # to calculate the power of test."
   ]
  },
  {
   "cell_type": "code",
   "execution_count": 189,
   "metadata": {},
   "outputs": [],
   "source": [
    "plt.rcParams['figure.figsize'] = [15,8]                # to set plot size"
   ]
  },
  {
   "cell_type": "code",
   "execution_count": null,
   "metadata": {},
   "outputs": [],
   "source": [
    "\n",
    "\n",
    "\n",
    "\n",
    "\n",
    "\n"
   ]
  },
  {
   "cell_type": "markdown",
   "metadata": {},
   "source": [
    "# Parameter Estimation.\n",
    "- The value associated with the characteristic of the population is known as a parameter.\n",
    "- and the characteristic of the sample is described by a statistic.\n",
    "- Usually, the population parameters are not known in most of the real-life problems.\n",
    "- Thus, we consider a subset of the population(sample) to estimate the population parameter using sample statistic."
   ]
  },
  {
   "cell_type": "markdown",
   "metadata": {},
   "source": [
    "## There are two methods of  to estimate the population parameter.\n",
    "- Point Estimation.\n",
    "- Interval Estimation."
   ]
  },
  {
   "cell_type": "markdown",
   "metadata": {},
   "source": [
    "### 1. Point Estimation.\n",
    "###### Point Estimation for mean,\n",
    "###### Point Estimation for propotion.\n",
    "- This method considers a single value(sample statistic) as the population parameter."
   ]
  },
  {
   "cell_type": "raw",
   "metadata": {},
   "source": [
    "Example:\n",
    "\n",
    "1. Consider the data of grade points for 35 students in a data science course. Select grades of 20 students randomly from the data and find the point estimate for the population mean.\n",
    "\n",
    "Grades: [59.1, 65.0, 75.8, 79.2, 95.0, 99.8, 89.1, 65.2, 41.9, 55.2, 94.8, 84.1, 83.2, 74.0, 75.5, 76.2, 79.1, 80.1, \n",
    "          92.1, 74.2, 59.2, 64.0, 75, 78.2, 95.6, 97.8, 89.5, 64.2, 41.8, 57.2, 85, 91.4, 81.8, 74.6, 90]"
   ]
  },
  {
   "cell_type": "code",
   "execution_count": 190,
   "metadata": {},
   "outputs": [
    {
     "name": "stdout",
     "output_type": "stream",
     "text": [
      "The point estimate for the population mean is 75.32500000000002\n"
     ]
    }
   ],
   "source": [
    "# ---------- THIS IS POINT ESTIMATION for MEAN ---------- #\n",
    "\n",
    "# Given population:\n",
    "Grades = [59.1, 65.0, 75.8, 79.2, 95.0, 99.8, 89.1, 65.2, 41.9, 55.2, 94.8, 84.1, 83.2, 74.0, 75.5, 76.2, 79.1, 80.1, \n",
    "          92.1, 74.2, 59.2, 64.0, 75, 78.2, 95.6, 97.8, 89.5, 64.2, 41.8, 57.2, 85, 91.4, 81.8, 74.6, 90]\n",
    "\n",
    "# To draw a sample for grade of 20 students without replacement.\n",
    "# use random.seed for get the same sample each time u run the code.\n",
    "random.seed(1)\n",
    "\n",
    "# get the sample from population\n",
    "samp_grades = random.sample(population=grades, k=20)\n",
    "\n",
    "# the point estimate of the population mean is equal to sample mean.\n",
    "# so, get the sample mean.\n",
    "samp_mean = np.mean(samp_grades)\n",
    "\n",
    "print('The point estimate for the population mean is',samp_mean)"
   ]
  },
  {
   "cell_type": "raw",
   "metadata": {},
   "source": [
    "2. A financial firm has created 50 portfolios. From them, a sample of 13 portfolios was selected, out of which 8 were found to be underperforming. Can you estimate the number of underperforming portfolios?"
   ]
  },
  {
   "cell_type": "code",
   "execution_count": 192,
   "metadata": {},
   "outputs": [
    {
     "name": "stdout",
     "output_type": "stream",
     "text": [
      "The number of underperforming portfolios are: 31\n"
     ]
    }
   ],
   "source": [
    "# ---------- THIS IS POINT ESTIMATION for PROPOTION ---------- #\n",
    "\n",
    "# Total count of portfolios.\n",
    "N = 50\n",
    "\n",
    "# number of portfolios in sample.\n",
    "n = 13\n",
    "\n",
    "# number of underproforming portfolois in a sample.\n",
    "x = 8\n",
    "\n",
    "# sample propotion.\n",
    "p_samp = x/n\n",
    "\n",
    "# estimate the number of underperforming portfolios.\n",
    "num_port = p_samp*N\n",
    "\n",
    "print('The number of underperforming portfolios are:',round(num_port))"
   ]
  },
  {
   "cell_type": "markdown",
   "metadata": {},
   "source": [
    "### 2. Interval Estimation .\n",
    "###### Interval estimation for mean.\n",
    "###### Interval estimation for propotion.\n",
    "- This method considers the range of values in which the population parameter is likely to lie.\n",
    "- The confidence interval is an interval that describes the range of values in which the parameter lies with a specific probability. \n",
    "- The confidence interval for the population mean with $100(1-\\alpha)$% confidence level is given as: $\\overline{X} \\pm Z_{\\frac{\\alpha}{2}}\\frac{\\sigma}{\\sqrt{n}}$\n",
    "- Where, <br>\n",
    "$\\overline{X}$: Sample mean<br>\n",
    "$\\alpha$: Level of significance<br>\n",
    "$\\sigma$: Population standard deviation<br>\n",
    "$n$: Sample size\n",
    "\n",
    "#####  i) Large Sample size.\n",
    "##### ii) Small Sample size."
   ]
  },
  {
   "cell_type": "markdown",
   "metadata": {},
   "source": [
    "### Interval Estimation for mean."
   ]
  },
  {
   "cell_type": "markdown",
   "metadata": {},
   "source": [
    "#### 1. Large Sample size n>30."
   ]
  },
  {
   "cell_type": "code",
   "execution_count": 216,
   "metadata": {},
   "outputs": [
    {
     "data": {
      "text/html": [
       "<div>\n",
       "<style scoped>\n",
       "    .dataframe tbody tr th:only-of-type {\n",
       "        vertical-align: middle;\n",
       "    }\n",
       "\n",
       "    .dataframe tbody tr th {\n",
       "        vertical-align: top;\n",
       "    }\n",
       "\n",
       "    .dataframe thead th {\n",
       "        text-align: right;\n",
       "    }\n",
       "</style>\n",
       "<table border=\"1\" class=\"dataframe\">\n",
       "  <thead>\n",
       "    <tr style=\"text-align: right;\">\n",
       "      <th></th>\n",
       "      <th>alpha</th>\n",
       "      <th>Z_alpha_by_2</th>\n",
       "    </tr>\n",
       "  </thead>\n",
       "  <tbody>\n",
       "    <tr>\n",
       "      <th>0</th>\n",
       "      <td>0.10</td>\n",
       "      <td>1.6449</td>\n",
       "    </tr>\n",
       "    <tr>\n",
       "      <th>1</th>\n",
       "      <td>0.05</td>\n",
       "      <td>1.9600</td>\n",
       "    </tr>\n",
       "    <tr>\n",
       "      <th>2</th>\n",
       "      <td>0.02</td>\n",
       "      <td>2.3263</td>\n",
       "    </tr>\n",
       "    <tr>\n",
       "      <th>3</th>\n",
       "      <td>0.01</td>\n",
       "      <td>2.5758</td>\n",
       "    </tr>\n",
       "  </tbody>\n",
       "</table>\n",
       "</div>"
      ],
      "text/plain": [
       "   alpha  Z_alpha_by_2\n",
       "0   0.10        1.6449\n",
       "1   0.05        1.9600\n",
       "2   0.02        2.3263\n",
       "3   0.01        2.5758"
      ]
     },
     "execution_count": 216,
     "metadata": {},
     "output_type": "execute_result"
    }
   ],
   "source": [
    "# let us find the Z-values for the different alpha values.\n",
    "\n",
    "# create an empty dataframe to store the aplha values and coressponding Z-values.\n",
    "df = pd.DataFrame()\n",
    "\n",
    "# create a dictionary of different aplha values.\n",
    "alpha = [0.1, 0.05, 0.02, 0.01]\n",
    "\n",
    "# use for loop to calculate the z-value of each aplha value.\n",
    "for i in range(len(alpha)):\n",
    "    alpha_by_2 = alpha[i] / 2\n",
    "    \n",
    "# use stats.norm.isf() to find tge z-values\\.\n",
    "# pass the value of alpha_by_2 to the parameter 'q'\n",
    "    Z = np.abs(round(stats.norm.isf(q = alpha_by_2),4))\n",
    "\n",
    "# create a dataframe using dictionary to store the alpha and corresponding Z-value\n",
    "    row = pd.DataFrame({\"alpha\":alpha[i],\"Z_alpha_by_2\":Z},index = [i])\n",
    "\n",
    "# append the row to the dataframe df\n",
    "    df = df.append(row)\n",
    "\n",
    "df\n"
   ]
  },
  {
   "cell_type": "raw",
   "metadata": {},
   "source": [
    "Example:\n",
    "\n",
    "1. A random sample of weight (in kg.) for 35 diabetic patients is drawn from the population with a standard deviation of 8 kg. Find the 90% confidence interval for the population mean.\n",
    "\n",
    "Weight: [59.1, 65.0, 75.8, 79.2, 95.0, 99.8, 89.1, 65.3, 41.9, 55.2, 94.8, 84.1, 83.2, 74.0, 75.5, 76.2, 79.1, 80.1, \n",
    "         92.1, 74.2, 59.2, 64.0, 75, 78.2, 95.6, 97.8, 89.5, 64.2, 41.8, 57.2, 85, 91.4, 81.8, 74.6, 90]"
   ]
  },
  {
   "cell_type": "code",
   "execution_count": 6,
   "metadata": {},
   "outputs": [
    {
     "name": "stdout",
     "output_type": "stream",
     "text": [
      "The 90% confidence interval of population mean is : [74.46 78.91]\n"
     ]
    }
   ],
   "source": [
    "# Given Sample:\n",
    "Weight = [59.1, 65.0, 75.8, 79.2, 95.0, 99.8, 89.1, 65.3, 41.9, 55.2, 94.8, 84.1, 83.2, 74.0, 75.5, 76.2, 79.1, 80.1, \n",
    "         92.1, 74.2, 59.2, 64.0, 75, 78.2, 95.6, 97.8, 89.5, 64.2, 41.8, 57.2, 85, 91.4, 81.8, 74.6, 90]\n",
    "\n",
    "# number of observations of the sample.\n",
    "n = len(Weight)\n",
    "\n",
    "# Given std of the population is 8 kg.\n",
    "std_pop = 8\n",
    "\n",
    "# To calculate the 90% confidence interval.\n",
    "# pass the sample mean to the parameter, 'loc'.\n",
    "# pass the scaling factor (std_pop/n^(1/2)) to the parameter, 'scale'.\n",
    "interval = stats.norm.interval(0.90, loc=np.mean(weight), scale=(std_pop/np.sqrt(n)))\n",
    "\n",
    "print('The 90% confidence interval of population mean is :',np.round(interval,2))"
   ]
  },
  {
   "cell_type": "markdown",
   "metadata": {},
   "source": [
    "### Let us calculate the confidence interval without using the built-in function."
   ]
  },
  {
   "cell_type": "code",
   "execution_count": 5,
   "metadata": {},
   "outputs": [
    {
     "name": "stdout",
     "output_type": "stream",
     "text": [
      "90% confidence interval for population mean is (74.46, 78.91)\n"
     ]
    }
   ],
   "source": [
    "# given sample\n",
    "weight = [59.1, 65.0, 75.8, 79.2, 95.0, 99.8, 89.1, 65.2, 41.9, 55.2, 94.8, 84.1, 83.2, 74.0, 75.5, 76.2, 79.1, 80.1, \n",
    "          92.1, 74.2, 59.2, 64.0, 75, 78.2, 95.6, 97.8, 89.5, 64.2, 41.8, 57.2, 85, 91.4, 81.8, 74.6, 90]\n",
    "\n",
    "# calculate sample mean\n",
    "avg  = np.mean(weight) \n",
    "\n",
    "# given population standard deviation \n",
    "std_pop = 8\n",
    "\n",
    "# number of observations in sample\n",
    "n = len(weight)\n",
    "\n",
    "# Z-value for 90% confidence level                \n",
    "z_alpha_by_2 = 1.6449\n",
    "\n",
    "# calculate the lower and upper bound of interval using the formula\n",
    "lower_int = avg - (z_alpha_by_2 * (std_pop / np.sqrt(n)))\n",
    "upper_int = avg + (z_alpha_by_2 * (std_pop / np.sqrt(n)))\n",
    "\n",
    "# print the 90% confidence interval\n",
    "# use 'round()' to round-off the value to 2 digits\n",
    "print('90% confidence interval for population mean is', (round(lower_int,2), round(upper_int,2)))"
   ]
  },
  {
   "cell_type": "raw",
   "metadata": {},
   "source": [
    "2. There are 150 apples on a tree. You randomly choose 40 apples and found that the average weight of apples is 182 grams with a standard deviation of 30 grams. Find the 95% confidence interval for the population mean."
   ]
  },
  {
   "cell_type": "code",
   "execution_count": 226,
   "metadata": {},
   "outputs": [
    {
     "name": "stdout",
     "output_type": "stream",
     "text": [
      "The 95% confidence interval for the pop mean is: [172.7 191.3]\n"
     ]
    }
   ],
   "source": [
    "# number of the observations from the sample.\n",
    "n = 40\n",
    "\n",
    "# sample mean.\n",
    "samp_mean = 182\n",
    "\n",
    "# sample std.\n",
    "sample_std = 30\n",
    "\n",
    "# to calculate the 95% confidence interval.\n",
    "interval = stats.norm.interval(0.95, loc=samp_mean, scale=(sample_std/np.sqrt(n)))\n",
    "\n",
    "print('The 95% confidence interval for the pop mean is:',np.round(interval,2))"
   ]
  },
  {
   "cell_type": "markdown",
   "metadata": {},
   "source": [
    "### 2. Small Sample Size."
   ]
  },
  {
   "cell_type": "code",
   "execution_count": null,
   "metadata": {},
   "outputs": [],
   "source": []
  },
  {
   "cell_type": "code",
   "execution_count": null,
   "metadata": {},
   "outputs": [],
   "source": []
  },
  {
   "cell_type": "code",
   "execution_count": null,
   "metadata": {},
   "outputs": [],
   "source": []
  },
  {
   "cell_type": "markdown",
   "metadata": {},
   "source": [
    "### Interval Estimation For propotion."
   ]
  },
  {
   "cell_type": "raw",
   "metadata": {},
   "source": [
    "Example:\n",
    "1. A financial firm has created 50 portfolios. From them, a sample of 13 portfolios was selected, out of which 8 were found to be underperforming. Construct a 99% confidence interval to estimate the population proportion"
   ]
  },
  {
   "cell_type": "code",
   "execution_count": 228,
   "metadata": {},
   "outputs": [
    {
     "name": "stdout",
     "output_type": "stream",
     "text": [
      "99% confidence interval for population proportion is (0.26782280814713805, 0.9629464226220927)\n"
     ]
    }
   ],
   "source": [
    "# total count of portfolios\n",
    "N = 50\n",
    "\n",
    "# number of portfolios in a sample\n",
    "n = 13\n",
    "\n",
    "# number of underperforming portfolios in a sample\n",
    "x = 8\n",
    "\n",
    "# sample proportion\n",
    "p_samp = x/n\n",
    "\n",
    "# calculate the 99% confidence interval\n",
    "# pass the sample proportion to the parameter, 'loc'\n",
    "# pass the scaling factor ((p_samp*(1-p_samp))/n))^0.5) to the parameter, 'scale'\n",
    "interval = stats.norm.interval(0.99, loc = p_samp, scale = np.sqrt((p_samp*(1-p_samp))/n))\n",
    "\n",
    "print('99% confidence interval for population proportion is', interval)"
   ]
  },
  {
   "cell_type": "markdown",
   "metadata": {},
   "source": [
    "# Sampling Error.\n",
    "- Sampling error is (Sample_mean - Population_mean)"
   ]
  },
  {
   "cell_type": "raw",
   "metadata": {},
   "source": [
    "Example:\n",
    "\n",
    "1. Consider the data for the number of ice-creams sold per day. An ice-cream vendor collected this data for 90 days and then a sample is drawn (without replacement) containing ice-creams sold for 25 days.\n",
    "\n",
    "data = [21, 93, 62, 76, 73, 20, 56, 95, 41, 36, 38, 13, 80, 88, 34, 18, 40, 11, 25, 29, 61, 23, 82, 10, 92, 69, 60, 87, 14, 91, 94, 49, 57, 83, 96, 55, 79, 52, 59, 39, 58, 17, 19, 98, 15, 54, 48, 46, 72, 45, 65, 28, 37, 30, 68, 75, 16, 33, 31, 99, 22, 51, 27, 67, 85, 47, 44, 77, 64, 97, 84, 42, 90, 70, 74, 89, 32, 26, 24, 12, 81, 53, 50, 35, 71, 63, 43, 86, 78, 66]\n",
    "\n",
    "sample = [10, 22, 47, 66, 11, 57, 77, 98, 31, 63, 74, 84, 50, 96, 88, 92, 70, 54, 65, 44, 16, 72, 20, 90, 43]\n",
    "\n",
    "Comupte the sampling error for mean."
   ]
  },
  {
   "cell_type": "code",
   "execution_count": 196,
   "metadata": {},
   "outputs": [
    {
     "name": "stdout",
     "output_type": "stream",
     "text": [
      "The sampling error for mean : 3.1000000000000014\n"
     ]
    }
   ],
   "source": [
    "# Given population and the sample.\n",
    "data = [21, 93, 62, 76, 73, 20, 56, 95, 41, 36, 38, 13, 80, 88, 34, 18, 40, 11, 25, 29, 61, 23, 82, 10, 92, 69, 60, 87, 14, 91, 94, 49, 57, 83, 96, 55, 79, 52, 59, 39, 58, 17, 19, 98, 15, 54, 48, 46, 72, 45, 65, 28, 37, 30, 68, 75, 16, 33, 31, 99, 22, 51, 27, 67, 85, 47, 44, 77, 64, 97, 84, 42, 90, 70, 74, 89, 32, 26, 24, 12, 81, 53, 50, 35, 71, 63, 43, 86, 78, 66]\n",
    "sample = [10, 22, 47, 66, 11, 57, 77, 98, 31, 63, 74, 84, 50, 96, 88, 92, 70, 54, 65, 44, 16, 72, 20, 90, 43]\n",
    "\n",
    "# find the population mean and sample mean.\n",
    "pop_mean = np.mean(data)\n",
    "samp_mean = np.mean(sample)\n",
    "\n",
    "sample_error = (pop_mean-samp_mean)\n",
    "print('The sampling error for mean :',abs(sample_error))"
   ]
  },
  {
   "cell_type": "markdown",
   "metadata": {},
   "source": [
    "# Types of Hypothesis\n",
    "\n",
    "- ***Null Hypothesis***: \n",
    "The null hypothesis is the claim suggesting 'no difference'. It is denoted as H<sub>0</sub>.\n",
    "\n",
    "- ***Alternative Hypothesis***: It is hypothesis that is tested against the null hypotheisis.\n",
    "- The acceptance or rejection of the hypothesis is based on the likelihood of H<sub>0</sub> being true.\n",
    "- it is denoted by H<sub>a</sub> or  H<sub>1</sub>.\n"
   ]
  },
  {
   "cell_type": "markdown",
   "metadata": {},
   "source": [
    "# Types of test\n",
    "- **Two tailed Test** \n",
    "\n",
    "- **one tailed Test**"
   ]
  },
  {
   "cell_type": "markdown",
   "metadata": {},
   "source": [
    "#### 1. Two tailed Test.\n",
    "- If we test the population mean ($\\mu$) with a specific value ($\\mu_{0}$) the null hypothesis is: $H_{0}: \\mu = \\mu_{0}$. \n",
    "The alternative hypothesis for the two tailed test is given as: $H_{1}: \\mu \\neq \\mu_{0}$"
   ]
  },
  {
   "cell_type": "raw",
   "metadata": {},
   "source": [
    "Example:\n",
    "\n",
    "A company that produces tennis balls claimed that the diameter of a tennis ball is 2.625 inches on average. To test the company's claim, a statistical test can be performed considering the hypothesis:"
   ]
  },
  {
   "cell_type": "code",
   "execution_count": null,
   "metadata": {},
   "outputs": [],
   "source": [
    "# Null Hypothesis          : Ho : u = 2.65\n",
    "# Alternative Hypothesis   : H1 : u ≠ 2.65"
   ]
  },
  {
   "cell_type": "markdown",
   "metadata": {},
   "source": [
    "#### 2. One tailed Test\n",
    "- One tailed test considers the value of the population parameter is less than or greater than (but not both) a specific value.\n",
    "\n",
    "- If we test the population mean ( 𝜇 ) with a specific value ( 𝜇0 ) the null hypothesis is:  **𝐻0:𝜇≤𝜇0**  and the alternative hypothesis is  **𝐻1:𝜇>𝜇0** the one tailed test is also known as a **right-tailed test**.\n",
    "\n",
    "- If we test the population mean ( 𝜇 ) with a specific value ( 𝜇0 ) the null hypothesis is:  **𝐻0:𝜇≥𝜇0**  and the alternative hypothesis is  **𝐻1:𝜇<𝜇0** the one tailed test is also known as a **left-tailed test**."
   ]
  },
  {
   "cell_type": "raw",
   "metadata": {},
   "source": [
    "Example:\n",
    "\n",
    "1. The company's annual quality report of machines states that a lathe machine works efficiently at most for 8 months on average after the servicing. The production manager claims that after the special tuxan servicing, the machine works efficiently for more than 8 months. To test the claim of production manager consider the hypothesis"
   ]
  },
  {
   "cell_type": "code",
   "execution_count": 233,
   "metadata": {},
   "outputs": [],
   "source": [
    "# Whenever there more than or less than first consider alternative hypothesis and then consider the null.\n",
    "#So,\n",
    "\n",
    "# Null Hypothesis        : Ho : Machine efficiency ≤ 8.\n",
    "# Alternative Hypothesis : H1 : Machine efficiency > 8.\n",
    "\n",
    "\n",
    "# This is an example for RIGHT TAILED TEST."
   ]
  },
  {
   "cell_type": "raw",
   "metadata": {},
   "source": [
    "2. A railway authority claims that all the trains on the Chicago-Seattle route run with a speed of at least 54 mph on average. A customer forum declares that there are various records from passengers claiming that the speed of the train is less than what railway has claimed. In this scenario, a statistical test can be performed to test the claim of customer forum considering the hypothesis:"
   ]
  },
  {
   "cell_type": "code",
   "execution_count": null,
   "metadata": {},
   "outputs": [],
   "source": [
    "# Null Hypothesis       : Ho : speed > 54    \n",
    "# Alternative Hypotheis : H1 : speed < 54           # first consider the Alternative Hypothesis.\n",
    "\n",
    "# This is an example for LEFT TAILED TEST."
   ]
  },
  {
   "cell_type": "markdown",
   "metadata": {},
   "source": [
    "# Hypothesis Tests with Z Statistic.\n",
    "- Let us perform one sample Z test for the population mean. We compare the population mean with a specific value. The sample is assumed to be taken from a population following a normal distribution.\n",
    "- **To check the normality of the data**, a test for normality is used. **The Shapiro-Wilk Test is one of the methods used to check the normality**. The hypothesis of the test is given as:"
   ]
  },
  {
   "cell_type": "raw",
   "metadata": {},
   "source": [
    "Example:\n",
    "\n",
    "1. A car manufacturing company claims that the mileage of their new car is 25 kmph with a standard deviation of 2.5 kmph. A random sample of 45 cars was drawn and recorded their mileage as per the standard procedure. From the sample, the mean mileage was seen to be 24 kmph. Is this evidence to claim that the mean mileage is different from 25kmph? (assume the normality of the data) Use α = 0.01."
   ]
  },
  {
   "cell_type": "markdown",
   "metadata": {},
   "source": [
    "##### 1. Z - statistic test."
   ]
  },
  {
   "cell_type": "code",
   "execution_count": null,
   "metadata": {},
   "outputs": [],
   "source": [
    "# step 1: The null and alternative hypothesis.\n",
    "\n",
    "# Null Hypothesis,           mileage : Ho : u = 25\n",
    "# Alternative Hypothesis,    mileage : H1 : u ≠ 25\n",
    "           # This is two tailed test."
   ]
  },
  {
   "cell_type": "code",
   "execution_count": 238,
   "metadata": {},
   "outputs": [
    {
     "name": "stdout",
     "output_type": "stream",
     "text": [
      "The critical value for two tailed Z-test is: 2.58\n"
     ]
    }
   ],
   "source": [
    "# Step 2: Find the z-value for the alpha.\n",
    "\n",
    "# Here = 0.01, for a two-tailed test calculate the critical z-value.\n",
    "# calcualte the z-value for 99% of confidence level.\n",
    "# pass the value alpha/2 to parameter q.\n",
    "\n",
    "z_val = np.abs(round(stats.norm.isf(q=0.01/2),2))\n",
    "print('The critical value for two tailed Z-test is:',z_val)"
   ]
  },
  {
   "cell_type": "code",
   "execution_count": 240,
   "metadata": {},
   "outputs": [
    {
     "name": "stdout",
     "output_type": "stream",
     "text": [
      "The Z-score is: -2.68\n"
     ]
    }
   ],
   "source": [
    "# Here if z-score is less than -2.58 or greater than 2.58 then we reject the null hypothesis.\n",
    "\n",
    "# step 3: To calculate the Z-test Statistic.\n",
    "\n",
    "# number of samples.\n",
    "n = 45\n",
    "\n",
    "# population mean.\n",
    "pop_mean = 25\n",
    "\n",
    "# sample mean.\n",
    "samp_mean = 24\n",
    "\n",
    "# standard deviation the data.\n",
    "pop_std = 2.5\n",
    "\n",
    "z_score = (samp_mean - pop_mean) / (pop_std / np.sqrt(n))\n",
    "print('The Z-score is:',round(z_score,2))\n"
   ]
  },
  {
   "cell_type": "markdown",
   "metadata": {},
   "source": [
    "##### 2. P-Value test."
   ]
  },
  {
   "cell_type": "code",
   "execution_count": 242,
   "metadata": {},
   "outputs": [
    {
     "name": "stdout",
     "output_type": "stream",
     "text": [
      "P-value: 0.007290358091535638\n"
     ]
    }
   ],
   "source": [
    "# to calculate the p-value for the test stastistic.\n",
    "# use 'cdf()' to calculate (Z <= z_score)\n",
    "p_value = stats.norm.cdf(z_score)\n",
    "\n",
    "# for a two-tailed test multiply the p-value by 2.\n",
    "p_value = p_value*2\n",
    "print('P-value:',p_value)"
   ]
  },
  {
   "cell_type": "markdown",
   "metadata": {},
   "source": [
    "##### 3. Confidence Interval test."
   ]
  },
  {
   "cell_type": "code",
   "execution_count": 246,
   "metadata": {},
   "outputs": [
    {
     "name": "stdout",
     "output_type": "stream",
     "text": [
      "Confidence Interval: [23.04 24.96]\n"
     ]
    }
   ],
   "source": [
    "# To calculate the 99% confidence interval for the pop mean.\n",
    "n = 45\n",
    "pop_mean = 25\n",
    "samp_mean = 24\n",
    "std = 2.5\n",
    "\n",
    "interval = stats.norm.interval(0.99, loc=samp_mean, scale=std/np.sqrt(n))\n",
    "print(\"Confidence Interval:\",np.round(interval,2))"
   ]
  },
  {
   "cell_type": "markdown",
   "metadata": {},
   "source": [
    "## **Conclusion**:\n",
    "\n",
    "- Here the **z-score** is less than -2.58.\n",
    "- **p-value** is less than 0.01.\n",
    "- **confidence interval** do not contain the value in the null hypothesis(i.e, 25).\n",
    "- Thus we reject the null hypothesis and conclude that there is enough evidence to claim mean mileage is different from 25 kmph."
   ]
  },
  {
   "cell_type": "code",
   "execution_count": null,
   "metadata": {},
   "outputs": [],
   "source": [
    "# FOR MORE UNDERSTANDING VIEW THE GRAPH IN FACULTY NOTEBOOK:"
   ]
  },
  {
   "cell_type": "raw",
   "metadata": {},
   "source": [
    "2. The average calories in a slice bread of the brand 'Alphas' are 82 with a standard deviation of 15. An experiment is conducted to test the claim of the dietitians that the calories in a slice of bread are not as per the manufacturer's specification. A sample of 40 slices of bread is taken and the mean calories recorded are 95. Test the claim of dietitians with ⍺ value (significance level) as 0.05. (assume the normality of the data)."
   ]
  },
  {
   "cell_type": "markdown",
   "metadata": {},
   "source": [
    "##### 1. Z- statistic test."
   ]
  },
  {
   "cell_type": "code",
   "execution_count": null,
   "metadata": {},
   "outputs": [],
   "source": [
    "# step1: The null and alternative Hypothesis.\n",
    "\n",
    "# Null hypothesis         Ho : u = 82\n",
    "# Alternative hypothesis  H1 : u ≠ 82\n",
    "\n",
    "# This is Two tailed test."
   ]
  },
  {
   "cell_type": "code",
   "execution_count": 249,
   "metadata": {},
   "outputs": [
    {
     "name": "stdout",
     "output_type": "stream",
     "text": [
      "The crictical value for the two-tailed Z-test is: 1.96\n"
     ]
    }
   ],
   "source": [
    "# step2: Here ⍺ = 0.05, for two tailed test calculate the critical Z-value.\n",
    "\n",
    "# calculate the z-value.\n",
    "# pass the value 'alpha/2' for parameter two because two tailed test.\n",
    "z_value = stats.norm.isf(q=0.05/2)\n",
    "print('The crictical value for the two-tailed Z-test is:',round(z_value,2))"
   ]
  },
  {
   "cell_type": "raw",
   "metadata": {},
   "source": [
    "# i.e if z is less than -1.96 or greater than 1.96 then we reject the null hypothesis."
   ]
  },
  {
   "cell_type": "code",
   "execution_count": 251,
   "metadata": {},
   "outputs": [
    {
     "name": "stdout",
     "output_type": "stream",
     "text": [
      "z-score: 5.48\n"
     ]
    }
   ],
   "source": [
    "# step3: To calculate the z-score.\n",
    "\n",
    "n=40\n",
    "pop_mean = 82\n",
    "pop_std = 15\n",
    "samp_mean = 95\n",
    "\n",
    "z_score = (samp_mean - pop_mean) / (pop_std/np.sqrt(n))\n",
    "print('z-score:',round(z_score,2))"
   ]
  },
  {
   "cell_type": "markdown",
   "metadata": {},
   "source": [
    "##### 2.P-value test."
   ]
  },
  {
   "cell_type": "raw",
   "metadata": {},
   "source": [
    "**** NOTE ****\n",
    "\n",
    "# P- value is probability value for the z-score here we get the z-score value greater than the z value so we need the probablity area behind the z-score value, so we are taking the z-score has negative in the p_value test, or we can take +z-score in the p-value test but we have to do sf inplace of sf"
   ]
  },
  {
   "cell_type": "code",
   "execution_count": 252,
   "metadata": {},
   "outputs": [
    {
     "name": "stdout",
     "output_type": "stream",
     "text": [
      "p-value: 4.222565249683579e-08\n"
     ]
    }
   ],
   "source": [
    "# To calcualte the p-value\n",
    "# use 'cdf()' to calculate P(Z <= -z_score)\n",
    "p_value = stats.norm.cdf(-z_score)\n",
    "\n",
    "# for a two-tailed test multiply the p-value by 2.\n",
    "req_p = p_value*2\n",
    "print('p-value:', req_p)"
   ]
  },
  {
   "cell_type": "markdown",
   "metadata": {},
   "source": [
    "##### 3.Confidence Interval ."
   ]
  },
  {
   "cell_type": "code",
   "execution_count": 253,
   "metadata": {},
   "outputs": [
    {
     "name": "stdout",
     "output_type": "stream",
     "text": [
      "Confidence Interval: (90.35153725771579, 99.64846274228421)\n"
     ]
    }
   ],
   "source": [
    "# to calculate the 95% confidence interval of the pop mean.\n",
    "interval = stats.norm.interval(0.95, loc=samp_mean, scale=pop_std/np.sqrt(n))\n",
    "print('Confidence Interval:',interval)"
   ]
  },
  {
   "cell_type": "markdown",
   "metadata": {},
   "source": [
    "# Conclusion.\n",
    "\n",
    "- Here the z score is greater than 1.96.\n",
    "- the p-value is less than 0.05.\n",
    "- also the confidence interval do not contain the value in the null hypothesis (i.e. 82).\n",
    "- thus we reject the null hypothesis and thus, there is enough evidence to conclude that the average calories in a slice bread are not 82."
   ]
  },
  {
   "cell_type": "raw",
   "metadata": {},
   "source": [
    "3. A typhoid vaccine in the market inscribes 3 mg of ascorbic acid in the vaccine. A research team claims that the vaccines contain less than 3 mg of acid. We collected the data of 40 vaccines by using random sampling from a population and recorded the amount of ascorbic acid. Test the claim of the research team using the sample data ⍺ value (significance level) to 0.05\n",
    "\n",
    "acid_amt = [2.57, 3.06, 3.28 , 3.24, 2.79, 3.40, 3.36, 3.07, 2.46, 3.03, 3.05, 2.94, 3.46, 3.19, 3.09, 2.81, 3.13, 2.88, \n",
    "            2.76, 2.75, 3.17, 2.89, 2.54, 3.18, 3.08, 2.60, 3.06, 3.13, 3.11, 3.08, 2.93, 2.90, 3.06, 2.97, 3.24, 2.86, \n",
    "            2.87, 3.18, 3, 2.95]"
   ]
  },
  {
   "cell_type": "code",
   "execution_count": 256,
   "metadata": {},
   "outputs": [],
   "source": [
    "acid_amt = [2.57, 3.06, 3.28 , 3.24, 2.79, 3.40, 3.36, 3.07, 2.46, 3.03, 3.05, 2.94, 3.46, 3.19, 3.09, 2.81, 3.13, 2.88, \n",
    "            2.76, 2.75, 3.17, 2.89, 2.54, 3.18, 3.08, 2.60, 3.06, 3.13, 3.11, 3.08, 2.93, 2.90, 3.06, 2.97, 3.24, 2.86, \n",
    "            2.87, 3.18, 3, 2.95]"
   ]
  },
  {
   "cell_type": "markdown",
   "metadata": {},
   "source": [
    "##### 1. Z-Statistic Test."
   ]
  },
  {
   "cell_type": "code",
   "execution_count": 257,
   "metadata": {},
   "outputs": [],
   "source": [
    "# step1: The null and alternative Hypothesis.\n",
    "\n",
    "# Null hypothesis         Ho : u > 3 \n",
    "# Alternative hypothesis  H1 : u < 3 ,consider this first \n",
    "\n",
    "# This is left tailed test."
   ]
  },
  {
   "cell_type": "code",
   "execution_count": 258,
   "metadata": {},
   "outputs": [
    {
     "name": "stdout",
     "output_type": "stream",
     "text": [
      "The critical value for one tailed Z-test is: 1.64\n"
     ]
    }
   ],
   "source": [
    "# step2: Here ⍺ = 0.05, for a one-tailed test calculate the critical z-value\n",
    "\n",
    "# calculate the z-value for 95% confidence interval of pop mean.\n",
    "# pass the value 'alpha' for the parameter q.(for one tailed test dont divide alpha by 2)\n",
    "z_value = stats.norm.isf(q=0.05)\n",
    "print('The critical value for one tailed Z-test is:',round(z_value,2))"
   ]
  },
  {
   "cell_type": "raw",
   "metadata": {},
   "source": [
    "# i.e if z is less than -1.64 then we reject the null hypothesis.\n",
    "# (left tailed test)"
   ]
  },
  {
   "cell_type": "code",
   "execution_count": 259,
   "metadata": {},
   "outputs": [
    {
     "name": "stdout",
     "output_type": "stream",
     "text": [
      "Z-score: 0.08\n"
     ]
    }
   ],
   "source": [
    "# step3: To find Z-score.\n",
    "\n",
    "n = 40 \n",
    "pop_mean = 3\n",
    "\n",
    "# This two values are not given:\n",
    "samp_mean = np.mean(acid_amt)      # will get it by mean of given sample. \n",
    "\n",
    "# pop_std = np.std(acid_amt) # donot do this because,\n",
    "pop_std = statistics.stdev(acid_amt)\n",
    "#print(statistics.stdev(acid_amt)) #Why this was used we use sample std deviation\n",
    "# use an unbiased estimate of sample variance. this has to be taken care when\n",
    "#we calculate the population variance from sample variance\n",
    "\n",
    "z_score = (samp_mean - pop_mean) / (pop_std / np.sqrt(n))\n",
    "print('Z-score:',round(z_score,2))\n"
   ]
  },
  {
   "cell_type": "markdown",
   "metadata": {},
   "source": [
    "##### 2. P-value test."
   ]
  },
  {
   "cell_type": "code",
   "execution_count": 261,
   "metadata": {},
   "outputs": [
    {
     "name": "stdout",
     "output_type": "stream",
     "text": [
      "p-value: 0.53\n"
     ]
    }
   ],
   "source": [
    "p_value = stats.norm.cdf(z_score)\n",
    "print('p-value:',round(p_value,2))"
   ]
  },
  {
   "cell_type": "markdown",
   "metadata": {},
   "source": [
    "##### 3. Confidence Interval."
   ]
  },
  {
   "cell_type": "code",
   "execution_count": 263,
   "metadata": {},
   "outputs": [
    {
     "name": "stdout",
     "output_type": "stream",
     "text": [
      "The confidence interval is: (2.932063993209846, 3.0739360067901544)\n"
     ]
    }
   ],
   "source": [
    "interval = stats.norm.interval(0.95, loc=samp_mean, scale=pop_std/np.sqrt(n))\n",
    "print('The confidence interval is:',(interval))"
   ]
  },
  {
   "cell_type": "markdown",
   "metadata": {},
   "source": [
    "# Conclusion.\n",
    "\n",
    "- Here the z-score is greater than -1.64.\n",
    "- the p-value is greater than 0.05.\n",
    "- also the confidence interval contains the value in the null hypothesis (i.e. 3). \n",
    "- thus we fail to reject (i.e. accept) the null hypothesis. Thus, there is no enough evidence to conclude that on average a typhoid vaccine contains less than 3 mg of ascorbic acid."
   ]
  },
  {
   "cell_type": "raw",
   "metadata": {},
   "source": [
    "*** NOTE *** \n",
    "\n",
    "if the p-value greater than the alpha value we consider the null hypothesis."
   ]
  },
  {
   "cell_type": "raw",
   "metadata": {},
   "source": [
    "4. A sample of 900 PVC pipes is found to have an average thickness of 12.5 mm. Can we assume that the sample is coming from a normal population with mean 13 mm against that it is less than 13 mm. The population standard deviation is 1 mm. Test the hypothesis at 5% level of significance."
   ]
  },
  {
   "cell_type": "markdown",
   "metadata": {},
   "source": [
    "##### 1. Z-stastistic test."
   ]
  },
  {
   "cell_type": "code",
   "execution_count": null,
   "metadata": {},
   "outputs": [],
   "source": [
    "# step1:\n",
    "\n",
    "# The null and alternative hypothesis is:\n",
    "\n",
    "# H0:  𝜇≥13 \n",
    "# H1:  𝜇<13 \n",
    "# Here ⍺ = 0.05, for a one-tailed test calculate the critical z-value\n",
    "# left tailed test."
   ]
  },
  {
   "cell_type": "code",
   "execution_count": 264,
   "metadata": {},
   "outputs": [
    {
     "name": "stdout",
     "output_type": "stream",
     "text": [
      "Critical value for one-tailed Z-test: 1.64\n"
     ]
    }
   ],
   "source": [
    "# step2: \n",
    "\n",
    "z_val = np.abs(round(stats.norm.isf(q = 0.05), 2))\n",
    "print('Critical value for one-tailed Z-test:', z_val)"
   ]
  },
  {
   "cell_type": "raw",
   "metadata": {},
   "source": [
    "i.e. if z is less than -1.64 then we reject the null hypothesis."
   ]
  },
  {
   "cell_type": "code",
   "execution_count": 265,
   "metadata": {},
   "outputs": [
    {
     "name": "stdout",
     "output_type": "stream",
     "text": [
      "Z-score: -15.0\n"
     ]
    }
   ],
   "source": [
    "# step3:\n",
    "\n",
    "n = 900\n",
    "pop_mean = 13\n",
    "pop_std = 1\n",
    "samp_mean = 12.5\n",
    "\n",
    "z_score = (samp_mean - pop_mean) / (pop_std / np.sqrt(n))\n",
    "print(\"Z-score:\", z_score)"
   ]
  },
  {
   "cell_type": "markdown",
   "metadata": {},
   "source": [
    "##### 2. P-value test"
   ]
  },
  {
   "cell_type": "code",
   "execution_count": 266,
   "metadata": {},
   "outputs": [
    {
     "name": "stdout",
     "output_type": "stream",
     "text": [
      "p-value: 3.6709661993126986e-51\n"
     ]
    }
   ],
   "source": [
    "# calculate the corresponding p-value for the test statistic\n",
    "# use 'cdf()' to calculate P(Z <= z_score)\n",
    "p_value = stats.norm.cdf(z_score)\n",
    "\n",
    "print('p-value:', p_value)"
   ]
  },
  {
   "cell_type": "markdown",
   "metadata": {},
   "source": [
    "##### 3. Confidence Interval."
   ]
  },
  {
   "cell_type": "code",
   "execution_count": 267,
   "metadata": {},
   "outputs": [
    {
     "name": "stdout",
     "output_type": "stream",
     "text": [
      "Confidence interval: (12.434667867181998, 12.565332132818002)\n"
     ]
    }
   ],
   "source": [
    "# calculate the 95% confidence interval for the population mean\n",
    "# pass the sample mean to the parameter, 'loc'\n",
    "# pass the scaling factor (pop_std / n^(1/2)) to the parameter, 'scale'\n",
    "print('Confidence interval:', stats.norm.interval(0.95, loc = samp_mean, scale = pop_std / np.sqrt(n)))"
   ]
  },
  {
   "cell_type": "markdown",
   "metadata": {},
   "source": [
    "# Conclusion.\n",
    "\n",
    "- Here the z score is less than -1.64.\n",
    "- p-value is less than 0.05. \n",
    "- also the confidence interval do not contain the value in the null hypothesis (i.e. 13).\n",
    "- thus we reject the null hypothesis and conclude that the sample is not coming from the population with mean 13.\n",
    "\n"
   ]
  },
  {
   "cell_type": "raw",
   "metadata": {},
   "source": [
    "5. An e-commerce company claims that the mean delivery time of food items on its website in NYC is 60 minutes with a standard deviation of 30 minutes. A random sample of 45 customers ordered from the website, and the average time for delivery was found to be 75 minutes. Is this enough evidence to claim that the average time to get items delivered is more than 60 minutes. (assume the normality of the data). Test the with α = 0.05"
   ]
  },
  {
   "cell_type": "code",
   "execution_count": null,
   "metadata": {},
   "outputs": [],
   "source": [
    "# step1:\n",
    "\n",
    "# The null and alternative hypothesis is:\n",
    "\n",
    "# H0:  𝜇≤60 \n",
    "# H1:  𝜇>60 \n",
    "# Here ⍺ = 0.05, for a one-tailed test calculate the critical z-value.\n",
    "# Right tailed test."
   ]
  },
  {
   "cell_type": "markdown",
   "metadata": {},
   "source": [
    "##### 1. Z-statistic test."
   ]
  },
  {
   "cell_type": "code",
   "execution_count": 269,
   "metadata": {},
   "outputs": [
    {
     "name": "stdout",
     "output_type": "stream",
     "text": [
      "Critical value for one-tailed Z-test: 1.64\n"
     ]
    }
   ],
   "source": [
    "# step2:\n",
    "\n",
    "z_val = np.abs(round(stats.norm.isf(q = 0.05), 2))\n",
    "print('Critical value for one-tailed Z-test:', z_val)"
   ]
  },
  {
   "cell_type": "code",
   "execution_count": 270,
   "metadata": {},
   "outputs": [
    {
     "name": "stdout",
     "output_type": "stream",
     "text": [
      "Z-score: 3.3541019662496843\n"
     ]
    }
   ],
   "source": [
    "# step3:\n",
    "\n",
    "n = 45\n",
    "pop_mean = 60\n",
    "pop_std = 30\n",
    "samp_mean = 75\n",
    "\n",
    "z_score = (samp_mean - pop_mean) / (pop_std / np.sqrt(n))\n",
    "print(\"Z-score:\", z_score)"
   ]
  },
  {
   "cell_type": "markdown",
   "metadata": {},
   "source": [
    "##### 2. P-value test."
   ]
  },
  {
   "cell_type": "code",
   "execution_count": 271,
   "metadata": {},
   "outputs": [
    {
     "name": "stdout",
     "output_type": "stream",
     "text": [
      "p-value: 0.0003981150787954058\n"
     ]
    }
   ],
   "source": [
    "# calculate the corresponding p-value for the test statistic\n",
    "# use 'sf()' to calculate P(Z > z_score)\n",
    "p_value = stats.norm.sf(z_score)\n",
    "\n",
    "print('p-value:', p_value)"
   ]
  },
  {
   "cell_type": "markdown",
   "metadata": {},
   "source": [
    "##### 3. Confidence interval."
   ]
  },
  {
   "cell_type": "code",
   "execution_count": 273,
   "metadata": {},
   "outputs": [
    {
     "name": "stdout",
     "output_type": "stream",
     "text": [
      "Confidence interval: (66.23477459423418, 83.76522540576582)\n"
     ]
    }
   ],
   "source": [
    "print('Confidence interval:', stats.norm.interval(0.95, loc = samp_mean, scale = pop_std / np.sqrt(n)))"
   ]
  },
  {
   "cell_type": "markdown",
   "metadata": {},
   "source": [
    "# Conculsion.\n",
    "\n",
    "- Here the z score is greater than 1.64.\n",
    "- the p-value is less than 0.05. \n",
    "- also the confidence interval do not contain the value in the null hypothesis (i.e. 60).\n",
    "- thus we reject the null hypothesis and conclude that the average time to get items delivered is more than 60 minutes."
   ]
  },
  {
   "cell_type": "markdown",
   "metadata": {},
   "source": [
    "# ERROR\n",
    "- The error can occur while choosing the correct hypothesis based on the statistical tests. Two types of errors are **Type I and Type II error**."
   ]
  },
  {
   "cell_type": "markdown",
   "metadata": {},
   "source": [
    "#### Type I Error\n",
    "- This kind of error occurs when we reject the null hypothesis even if it is true\n",
    "- It is equivalent to a **false positive conclusion**. The probability of type I error is given by the value of  𝛼 , level of significance.\n",
    "\n",
    "#### Type II Error\n",
    "- This kind of error occurs when we fail to reject the null hypothesis even if it is wrong,\n",
    "- It is equivalent to a **false negative conclusion**. The probability of type II error is given by the value of  𝛽 ."
   ]
  },
  {
   "cell_type": "raw",
   "metadata": {},
   "source": [
    "* Class notes:\n",
    "    \n",
    "Type I error  - rejecting null hypothesis even if it is true.\n",
    "Type II error - not rejecting null hypothesis even if it is not true.\n",
    "\n",
    "** Reducing 'Aplha' - reducing the rejection region.\n",
    "                      reduces the type I error.\n",
    "\n",
    "** Reducing 'Beta'  - reducing the acceptance region.\n",
    "                      reduces the type II error.\n",
    "    \n",
    "*** Type I error and Type II error are contradictory if one decreases the other increases.\n",
    "So, we need to have a trade off.\n",
    "Based on the domain we decide.\n"
   ]
  },
  {
   "cell_type": "markdown",
   "metadata": {},
   "source": [
    "# Power of Hypothesis Test.\n",
    "\n",
    "- The probability of correctly rejecting a false null hypothesis is defined as the Power of a test.\n",
    "- It is calculated as 1-Beta."
   ]
  },
  {
   "cell_type": "raw",
   "metadata": {},
   "source": [
    "** Class notes:\n",
    "\n",
    "- 1-Beta is power of test.\n",
    "\n",
    "- we want for hypothesis testing the power of the test should be high.\n",
    "\n",
    "- 'Reduce Beta' - power of the test is high."
   ]
  },
  {
   "cell_type": "raw",
   "metadata": {},
   "source": [
    "Example:\n",
    "\n",
    "1. We need to determine if girls' score on average is higher than 300 in the GRE (for higher studies). The standard deviation of the population is 20. We collected the data of 40 girls by using random sampling and recorded their marks. Set ⍺ value (significance level) to 0.05 to calculate the power of the test.\n",
    "\n",
    "GRE scores = [311, 313, 309, 307, 302, 313, 305, 336, 322, 300, 335, 312, 282, 314, 310, 316, 301, 315, 299, 298, 308, \n",
    "              315, 306, 321, 276, 306, 324, 308, 334, 277, 319, 322, 298, 300, 293, 333,305, 302, 317, 287]"
   ]
  },
  {
   "cell_type": "code",
   "execution_count": null,
   "metadata": {},
   "outputs": [],
   "source": [
    "GRE scores = [311, 313, 309, 307, 302, 313, 305, 336, 322, 300, 335, 312, 282, 314, 310, 316, 301, 315, 299, 298, 308, \n",
    "              315, 306, 321, 276, 306, 324, 308, 334, 277, 319, 322, 298, 300, 293, 333,305, 302, 317, 287]"
   ]
  },
  {
   "cell_type": "code",
   "execution_count": 8,
   "metadata": {},
   "outputs": [
    {
     "name": "stdout",
     "output_type": "stream",
     "text": [
      "Power of the test: 0.8707713725498709\n"
     ]
    }
   ],
   "source": [
    "# import the function to calculate the power of test\n",
    "from statsmodels.stats import power\n",
    "\n",
    "# given GRE scores\n",
    "scores = [311, 313, 309, 307, 302, 313, 305, 336, 322, 300, 335, 312, 282, 314, 310, 316, 301, 315, 299, 298, 308, 315, 306, \n",
    "          321, 276, 306, 324, 308, 334, 277, 319, 322, 298, 300, 293, 333,305, 302, 317, 287]\n",
    "\n",
    "# number of observations \n",
    "n = len(scores)\n",
    "\n",
    "# calculate the sample mean\n",
    "samp_mean = np.mean(scores)\n",
    "\n",
    "# population mean\n",
    "pop_mean = 300\n",
    "\n",
    "# population standard deviation\n",
    "pop_std = 20\n",
    "\n",
    "\n",
    "# use 'zt_ind_solve_power()' to calculate the power of the z-test\n",
    "# keep the value of exact one parameter as 'None' to calculate the value of that parameter using remaining values \n",
    "# calculate the 'effect_size' using the sample_mean, null hypothesis value and population standard deviation\n",
    "# pass the sample size to the parameter, 'nobs1'\n",
    "# pass the value of alpha to the parameter, 'alpha'\n",
    "# pass 'None' to the parameter 'power' as we want to calculate its value\n",
    "# for one sample test, consider the 'ratio' as 0\n",
    "# pass the alternative for one-tailed test to the parameter, 'alternative'\n",
    "power = power.zt_ind_solve_power(effect_size = (samp_mean - pop_mean)/pop_std, \n",
    "                         nobs1 = n, \n",
    "                         alpha = 0.05, \n",
    "                         power = None, \n",
    "                         ratio = 0, \n",
    "                         alternative = 'larger')\n",
    "\n",
    "print('Power of the test:', power)"
   ]
  },
  {
   "cell_type": "markdown",
   "metadata": {},
   "source": [
    "## For finding the Type II error we just do,\n",
    "\n",
    "- **TYPE II ERROR = (1-Power)**"
   ]
  }
 ],
 "metadata": {
  "kernelspec": {
   "display_name": "Python 3",
   "language": "python",
   "name": "python3"
  },
  "language_info": {
   "codemirror_mode": {
    "name": "ipython",
    "version": 3
   },
   "file_extension": ".py",
   "mimetype": "text/x-python",
   "name": "python",
   "nbconvert_exporter": "python",
   "pygments_lexer": "ipython3",
   "version": "3.8.5"
  }
 },
 "nbformat": 4,
 "nbformat_minor": 4
}
